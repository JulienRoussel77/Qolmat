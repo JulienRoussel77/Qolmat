{
 "cells": [
  {
   "cell_type": "code",
   "execution_count": null,
   "id": "7bec9ffc",
   "metadata": {},
   "outputs": [],
   "source": [
    "%load_ext autoreload\n",
    "%autoreload 2"
   ]
  },
  {
   "cell_type": "code",
   "execution_count": 122,
   "id": "3587aa0a",
   "metadata": {},
   "outputs": [
    {
     "data": {
      "text/plain": [
       "(1, 5)"
      ]
     },
     "execution_count": 122,
     "metadata": {},
     "output_type": "execute_result"
    }
   ],
   "source": [
    "np.array([[1, 2, 3, np.nan, 5]]).shape"
   ]
  },
  {
   "cell_type": "code",
   "execution_count": 2,
   "id": "b5136ec4",
   "metadata": {},
   "outputs": [
    {
     "name": "stderr",
     "output_type": "stream",
     "text": [
      "OMP: Info #276: omp_set_nested routine deprecated, please use omp_set_max_active_levels instead.\n"
     ]
    }
   ],
   "source": [
    "import matplotlib.pyplot as plt\n",
    "import numpy as np\n",
    "import pandas as pd\n",
    "# import seaborn as sns\n",
    "\n",
    "from qolmat.imputations.imputers import ImputerMICE, ImputerRegressor\n",
    "from qolmat.imputations import estimators\n",
    "from qolmat.benchmark.metrics import get_metric\n",
    "from qolmat.benchmark import missing_patterns\n",
    "from qolmat.benchmark import comparator\n",
    "from qolmat.utils import plot\n",
    "from qolmat.imputations import imputers\n",
    "from qolmat.imputations.estimators import OneHotEncoderProjector\n",
    "\n",
    "from sklearn.preprocessing import OrdinalEncoder, StandardScaler\n",
    "from sklearn.pipeline import Pipeline\n",
    "from sklearn.ensemble import RandomForestClassifier, HistGradientBoostingRegressor, HistGradientBoostingClassifier\n",
    "from sklearn.compose import ColumnTransformer\n",
    "from sklearn.impute import SimpleImputer\n",
    "\n",
    "from sklearn.base import (\n",
    "    BaseEstimator,\n",
    "    ClassifierMixin,\n",
    "    RegressorMixin,\n",
    ")\n",
    "from sklearn.compose import make_column_selector as selector\n",
    "\n",
    "# from category_encoders.one_hot import OneHotEncoder"
   ]
  },
  {
   "cell_type": "code",
   "execution_count": 3,
   "id": "55e57e8b",
   "metadata": {},
   "outputs": [],
   "source": [
    "df = pd.read_csv(\"../data/titanic.csv\", sep=\";\")"
   ]
  },
  {
   "cell_type": "code",
   "execution_count": 4,
   "id": "61bcee05",
   "metadata": {},
   "outputs": [],
   "source": [
    "y = df[\"survived\"] == 1"
   ]
  },
  {
   "cell_type": "code",
   "execution_count": 5,
   "id": "88f12b44",
   "metadata": {},
   "outputs": [],
   "source": [
    "df = df.dropna(how=\"all\")\n",
    "df = df.drop(columns=[\"pclass\", \"survived\", \"name\", \"home.dest\", \"cabin\", \"ticket\", \"boat\", \"body\"])"
   ]
  },
  {
   "cell_type": "code",
   "execution_count": 6,
   "id": "34cfca81",
   "metadata": {},
   "outputs": [],
   "source": [
    "df[\"age\"] = pd.to_numeric(df[\"age\"], errors=\"coerce\")\n",
    "df[\"fare\"] = pd.to_numeric(df[\"fare\"].str.replace(\",\", \"\"), errors=\"coerce\")"
   ]
  },
  {
   "cell_type": "code",
   "execution_count": 7,
   "id": "7cefa249",
   "metadata": {},
   "outputs": [
    {
     "data": {
      "text/html": [
       "<div>\n",
       "<style scoped>\n",
       "    .dataframe tbody tr th:only-of-type {\n",
       "        vertical-align: middle;\n",
       "    }\n",
       "\n",
       "    .dataframe tbody tr th {\n",
       "        vertical-align: top;\n",
       "    }\n",
       "\n",
       "    .dataframe thead th {\n",
       "        text-align: right;\n",
       "    }\n",
       "</style>\n",
       "<table border=\"1\" class=\"dataframe\">\n",
       "  <thead>\n",
       "    <tr style=\"text-align: right;\">\n",
       "      <th></th>\n",
       "      <th>sex</th>\n",
       "      <th>age</th>\n",
       "      <th>sibsp</th>\n",
       "      <th>parch</th>\n",
       "      <th>fare</th>\n",
       "      <th>embarked</th>\n",
       "    </tr>\n",
       "  </thead>\n",
       "  <tbody>\n",
       "    <tr>\n",
       "      <th>0</th>\n",
       "      <td>female</td>\n",
       "      <td>29.0</td>\n",
       "      <td>0.0</td>\n",
       "      <td>0.0</td>\n",
       "      <td>2113375.0</td>\n",
       "      <td>S</td>\n",
       "    </tr>\n",
       "    <tr>\n",
       "      <th>1</th>\n",
       "      <td>male</td>\n",
       "      <td>NaN</td>\n",
       "      <td>1.0</td>\n",
       "      <td>2.0</td>\n",
       "      <td>1515500.0</td>\n",
       "      <td>S</td>\n",
       "    </tr>\n",
       "    <tr>\n",
       "      <th>2</th>\n",
       "      <td>female</td>\n",
       "      <td>2.0</td>\n",
       "      <td>1.0</td>\n",
       "      <td>2.0</td>\n",
       "      <td>1515500.0</td>\n",
       "      <td>S</td>\n",
       "    </tr>\n",
       "  </tbody>\n",
       "</table>\n",
       "</div>"
      ],
      "text/plain": [
       "      sex   age  sibsp  parch       fare embarked\n",
       "0  female  29.0    0.0    0.0  2113375.0        S\n",
       "1    male   NaN    1.0    2.0  1515500.0        S\n",
       "2  female   2.0    1.0    2.0  1515500.0        S"
      ]
     },
     "execution_count": 7,
     "metadata": {},
     "output_type": "execute_result"
    }
   ],
   "source": [
    "df.head(3)"
   ]
  },
  {
   "cell_type": "code",
   "execution_count": 8,
   "id": "87e6d8c6",
   "metadata": {},
   "outputs": [],
   "source": [
    "selector_cat = selector(dtype_exclude=np.number)\n",
    "cols_cat = selector_cat(df)\n",
    "selector_num = selector(dtype_include=np.number)\n",
    "cols_num = selector_num(df)"
   ]
  },
  {
   "cell_type": "code",
   "execution_count": 10,
   "id": "394b40d9",
   "metadata": {},
   "outputs": [],
   "source": [
    "imputer_rpca = imputers.ImputerRpcaNoisy()\n",
    "ohe = OneHotEncoderProjector(handle_unknown=\"ignore\", handle_missing=\"return_nan\", use_cat_names=True, cols=cols_cat)\n",
    "bt = estimators.BinTransformer(cols=cols_num)\n",
    "wrapper = Pipeline(steps=[(\"OneHotEncoder\", ohe), (\"BinTransformer\", bt)])\n",
    "\n",
    "imputer_wrap_rpca = estimators.WrapperTransformer(imputer_rpca, wrapper)"
   ]
  },
  {
   "cell_type": "code",
   "execution_count": 11,
   "id": "915c5caf",
   "metadata": {},
   "outputs": [],
   "source": [
    "ohe.mapping"
   ]
  },
  {
   "cell_type": "code",
   "execution_count": 12,
   "id": "93d0c02d",
   "metadata": {},
   "outputs": [],
   "source": [
    "df_imp = imputer_wrap_rpca.fit_transform(df.iloc[:100])"
   ]
  },
  {
   "cell_type": "code",
   "execution_count": 15,
   "id": "ea24e781",
   "metadata": {},
   "outputs": [],
   "source": [
    "pipestimator = estimators.make_robust_MixteHGB(allow_new=False)\n",
    "imputer_hgb = ImputerRegressor(estimator=pipestimator, handler_nan=\"none\")\n",
    "imputer_wrap_hgb = estimators.WrapperTransformer(imputer_hgb, bt)"
   ]
  },
  {
   "cell_type": "code",
   "execution_count": 16,
   "id": "e5347dfe",
   "metadata": {},
   "outputs": [],
   "source": [
    "imputer_simple = imputers.ImputerSimple()"
   ]
  },
  {
   "cell_type": "code",
   "execution_count": 17,
   "id": "325b7354",
   "metadata": {},
   "outputs": [],
   "source": [
    "dict_imputers = {\"Simple\": imputer_simple, \"HGB\": imputer_wrap_hgb, \"RPCA\": imputer_wrap_rpca}\n",
    "cols_to_impute = df.columns\n",
    "ratio_masked = .1\n",
    "generator_holes = missing_patterns.UniformHoleGenerator(n_splits=2, subset=cols_to_impute, ratio_masked=ratio_masked, sample_proportional=False)\n",
    "metrics = [\"mae\", \"accuracy\"]"
   ]
  },
  {
   "cell_type": "code",
   "execution_count": 61,
   "id": "5d4c2127",
   "metadata": {},
   "outputs": [
    {
     "name": "stdout",
     "output_type": "stream",
     "text": [
      "Testing model: Simple...done.\n",
      "Testing model: HGB...done.\n",
      "Testing model: RPCA...done.\n"
     ]
    }
   ],
   "source": [
    "comparison = comparator.Comparator(\n",
    "    dict_imputers,\n",
    "    cols_to_impute,\n",
    "    generator_holes = generator_holes,\n",
    "    metrics=metrics,\n",
    "    max_evals=2,\n",
    ")\n",
    "results = comparison.compare(df)"
   ]
  },
  {
   "cell_type": "code",
   "execution_count": 111,
   "id": "4b0ebe4e",
   "metadata": {},
   "outputs": [
    {
     "data": {
      "text/html": [
       "<style type=\"text/css\">\n",
       "#T_1b701_row0_col1, #T_1b701_row1_col1, #T_1b701_row2_col0, #T_1b701_row3_col2 {\n",
       "  background-color: lightgreen;\n",
       "}\n",
       "</style>\n",
       "<table id=\"T_1b701\">\n",
       "  <thead>\n",
       "    <tr>\n",
       "      <th class=\"blank level0\" >&nbsp;</th>\n",
       "      <th id=\"T_1b701_level0_col0\" class=\"col_heading level0 col0\" >Simple</th>\n",
       "      <th id=\"T_1b701_level0_col1\" class=\"col_heading level0 col1\" >HGB</th>\n",
       "      <th id=\"T_1b701_level0_col2\" class=\"col_heading level0 col2\" >RPCA</th>\n",
       "    </tr>\n",
       "  </thead>\n",
       "  <tbody>\n",
       "    <tr>\n",
       "      <th id=\"T_1b701_level0_row0\" class=\"row_heading level0 row0\" >age</th>\n",
       "      <td id=\"T_1b701_row0_col0\" class=\"data row0 col0\" >10.935115</td>\n",
       "      <td id=\"T_1b701_row0_col1\" class=\"data row0 col1\" >10.202290</td>\n",
       "      <td id=\"T_1b701_row0_col2\" class=\"data row0 col2\" >11.278626</td>\n",
       "    </tr>\n",
       "    <tr>\n",
       "      <th id=\"T_1b701_level0_row1\" class=\"row_heading level0 row1\" >sibsp</th>\n",
       "      <td id=\"T_1b701_row1_col0\" class=\"data row1 col0\" >0.427481</td>\n",
       "      <td id=\"T_1b701_row1_col1\" class=\"data row1 col1\" >0.328244</td>\n",
       "      <td id=\"T_1b701_row1_col2\" class=\"data row1 col2\" >0.446565</td>\n",
       "    </tr>\n",
       "    <tr>\n",
       "      <th id=\"T_1b701_level0_row2\" class=\"row_heading level0 row2\" >parch</th>\n",
       "      <td id=\"T_1b701_row2_col0\" class=\"data row2 col0\" >0.297710</td>\n",
       "      <td id=\"T_1b701_row2_col1\" class=\"data row2 col1\" >0.324427</td>\n",
       "      <td id=\"T_1b701_row2_col2\" class=\"data row2 col2\" >0.393130</td>\n",
       "    </tr>\n",
       "    <tr>\n",
       "      <th id=\"T_1b701_level0_row3\" class=\"row_heading level0 row3\" >fare</th>\n",
       "      <td id=\"T_1b701_row3_col0\" class=\"data row3 col0\" >254970.885496</td>\n",
       "      <td id=\"T_1b701_row3_col1\" class=\"data row3 col1\" >285660.019084</td>\n",
       "      <td id=\"T_1b701_row3_col2\" class=\"data row3 col2\" >244295.000000</td>\n",
       "    </tr>\n",
       "  </tbody>\n",
       "</table>\n"
      ],
      "text/plain": [
       "<pandas.io.formats.style.Styler at 0x14f423e50>"
      ]
     },
     "metadata": {},
     "output_type": "display_data"
    }
   ],
   "source": [
    "display(results.loc[\"mae\"].style.highlight_min(color=\"lightgreen\", axis=1))"
   ]
  },
  {
   "cell_type": "code",
   "execution_count": 112,
   "id": "08640c07",
   "metadata": {},
   "outputs": [
    {
     "data": {
      "text/html": [
       "<style type=\"text/css\">\n",
       "#T_3e1ac_row0_col1, #T_3e1ac_row1_col1, #T_3e1ac_row2_col1, #T_3e1ac_row3_col0, #T_3e1ac_row4_col0, #T_3e1ac_row5_col1 {\n",
       "  background-color: lightgreen;\n",
       "}\n",
       "</style>\n",
       "<table id=\"T_3e1ac\">\n",
       "  <thead>\n",
       "    <tr>\n",
       "      <th class=\"blank level0\" >&nbsp;</th>\n",
       "      <th id=\"T_3e1ac_level0_col0\" class=\"col_heading level0 col0\" >Simple</th>\n",
       "      <th id=\"T_3e1ac_level0_col1\" class=\"col_heading level0 col1\" >HGB</th>\n",
       "      <th id=\"T_3e1ac_level0_col2\" class=\"col_heading level0 col2\" >RPCA</th>\n",
       "    </tr>\n",
       "  </thead>\n",
       "  <tbody>\n",
       "    <tr>\n",
       "      <th id=\"T_3e1ac_level0_row0\" class=\"row_heading level0 row0\" >sex</th>\n",
       "      <td id=\"T_3e1ac_row0_col0\" class=\"data row0 col0\" >0.648855</td>\n",
       "      <td id=\"T_3e1ac_row0_col1\" class=\"data row0 col1\" >0.652672</td>\n",
       "      <td id=\"T_3e1ac_row0_col2\" class=\"data row0 col2\" >0.606870</td>\n",
       "    </tr>\n",
       "    <tr>\n",
       "      <th id=\"T_3e1ac_level0_row1\" class=\"row_heading level0 row1\" >age</th>\n",
       "      <td id=\"T_3e1ac_row1_col0\" class=\"data row1 col0\" >0.026718</td>\n",
       "      <td id=\"T_3e1ac_row1_col1\" class=\"data row1 col1\" >0.041985</td>\n",
       "      <td id=\"T_3e1ac_row1_col2\" class=\"data row1 col2\" >0.026718</td>\n",
       "    </tr>\n",
       "    <tr>\n",
       "      <th id=\"T_3e1ac_level0_row2\" class=\"row_heading level0 row2\" >sibsp</th>\n",
       "      <td id=\"T_3e1ac_row2_col0\" class=\"data row2 col0\" >0.706107</td>\n",
       "      <td id=\"T_3e1ac_row2_col1\" class=\"data row2 col1\" >0.721374</td>\n",
       "      <td id=\"T_3e1ac_row2_col2\" class=\"data row2 col2\" >0.687023</td>\n",
       "    </tr>\n",
       "    <tr>\n",
       "      <th id=\"T_3e1ac_level0_row3\" class=\"row_heading level0 row3\" >parch</th>\n",
       "      <td id=\"T_3e1ac_row3_col0\" class=\"data row3 col0\" >0.805344</td>\n",
       "      <td id=\"T_3e1ac_row3_col1\" class=\"data row3 col1\" >0.763359</td>\n",
       "      <td id=\"T_3e1ac_row3_col2\" class=\"data row3 col2\" >0.736641</td>\n",
       "    </tr>\n",
       "    <tr>\n",
       "      <th id=\"T_3e1ac_level0_row4\" class=\"row_heading level0 row4\" >fare</th>\n",
       "      <td id=\"T_3e1ac_row4_col0\" class=\"data row4 col0\" >0.003817</td>\n",
       "      <td id=\"T_3e1ac_row4_col1\" class=\"data row4 col1\" >0.000000</td>\n",
       "      <td id=\"T_3e1ac_row4_col2\" class=\"data row4 col2\" >0.000000</td>\n",
       "    </tr>\n",
       "    <tr>\n",
       "      <th id=\"T_3e1ac_level0_row5\" class=\"row_heading level0 row5\" >embarked</th>\n",
       "      <td id=\"T_3e1ac_row5_col0\" class=\"data row5 col0\" >0.633588</td>\n",
       "      <td id=\"T_3e1ac_row5_col1\" class=\"data row5 col1\" >0.797710</td>\n",
       "      <td id=\"T_3e1ac_row5_col2\" class=\"data row5 col2\" >0.713740</td>\n",
       "    </tr>\n",
       "  </tbody>\n",
       "</table>\n"
      ],
      "text/plain": [
       "<pandas.io.formats.style.Styler at 0x14eea81f0>"
      ]
     },
     "metadata": {},
     "output_type": "display_data"
    }
   ],
   "source": [
    "display(results.loc[\"accuracy\"].style.highlight_max(color=\"lightgreen\", axis=1))"
   ]
  },
  {
   "cell_type": "markdown",
   "id": "d8193a27",
   "metadata": {},
   "source": [
    "# Imputation analysis"
   ]
  },
  {
   "cell_type": "code",
   "execution_count": 113,
   "id": "4df8e2ce",
   "metadata": {},
   "outputs": [],
   "source": [
    "mask = generator_holes.generate_mask(df)\n",
    "df_corr = df.where(~mask, np.nan)\n",
    "df_imp = imputer_wrap_hgb.fit_transform(df_corr)"
   ]
  },
  {
   "cell_type": "code",
   "execution_count": 114,
   "id": "c4681f8e",
   "metadata": {},
   "outputs": [],
   "source": [
    "ages = df[mask][\"age\"]\n",
    "ages_imp = df_imp[mask][\"age\"]"
   ]
  },
  {
   "cell_type": "code",
   "execution_count": 115,
   "id": "1537a2a7",
   "metadata": {},
   "outputs": [],
   "source": [
    "mesh = np.arange(ages.max() + 1)\n",
    "counts = ages.value_counts().reindex(mesh, fill_value=0)\n",
    "counts_imp = ages_imp.value_counts().reindex(mesh, fill_value=0)"
   ]
  },
  {
   "cell_type": "code",
   "execution_count": 116,
   "id": "dad580cc",
   "metadata": {},
   "outputs": [
    {
     "data": {
      "text/html": [
       "<div>\n",
       "<style scoped>\n",
       "    .dataframe tbody tr th:only-of-type {\n",
       "        vertical-align: middle;\n",
       "    }\n",
       "\n",
       "    .dataframe tbody tr th {\n",
       "        vertical-align: top;\n",
       "    }\n",
       "\n",
       "    .dataframe thead th {\n",
       "        text-align: right;\n",
       "    }\n",
       "</style>\n",
       "<table border=\"1\" class=\"dataframe\">\n",
       "  <thead>\n",
       "    <tr style=\"text-align: right;\">\n",
       "      <th></th>\n",
       "      <th>count</th>\n",
       "      <th>count</th>\n",
       "    </tr>\n",
       "    <tr>\n",
       "      <th>age</th>\n",
       "      <th></th>\n",
       "      <th></th>\n",
       "    </tr>\n",
       "  </thead>\n",
       "  <tbody>\n",
       "    <tr>\n",
       "      <th>0.0</th>\n",
       "      <td>0</td>\n",
       "      <td>0</td>\n",
       "    </tr>\n",
       "    <tr>\n",
       "      <th>1.0</th>\n",
       "      <td>2</td>\n",
       "      <td>0</td>\n",
       "    </tr>\n",
       "    <tr>\n",
       "      <th>2.0</th>\n",
       "      <td>1</td>\n",
       "      <td>0</td>\n",
       "    </tr>\n",
       "    <tr>\n",
       "      <th>3.0</th>\n",
       "      <td>0</td>\n",
       "      <td>0</td>\n",
       "    </tr>\n",
       "    <tr>\n",
       "      <th>4.0</th>\n",
       "      <td>2</td>\n",
       "      <td>0</td>\n",
       "    </tr>\n",
       "    <tr>\n",
       "      <th>...</th>\n",
       "      <td>...</td>\n",
       "      <td>...</td>\n",
       "    </tr>\n",
       "    <tr>\n",
       "      <th>76.0</th>\n",
       "      <td>0</td>\n",
       "      <td>0</td>\n",
       "    </tr>\n",
       "    <tr>\n",
       "      <th>77.0</th>\n",
       "      <td>0</td>\n",
       "      <td>0</td>\n",
       "    </tr>\n",
       "    <tr>\n",
       "      <th>78.0</th>\n",
       "      <td>0</td>\n",
       "      <td>0</td>\n",
       "    </tr>\n",
       "    <tr>\n",
       "      <th>79.0</th>\n",
       "      <td>0</td>\n",
       "      <td>0</td>\n",
       "    </tr>\n",
       "    <tr>\n",
       "      <th>80.0</th>\n",
       "      <td>1</td>\n",
       "      <td>0</td>\n",
       "    </tr>\n",
       "  </tbody>\n",
       "</table>\n",
       "<p>81 rows × 2 columns</p>\n",
       "</div>"
      ],
      "text/plain": [
       "      count  count\n",
       "age               \n",
       "0.0       0      0\n",
       "1.0       2      0\n",
       "2.0       1      0\n",
       "3.0       0      0\n",
       "4.0       2      0\n",
       "...     ...    ...\n",
       "76.0      0      0\n",
       "77.0      0      0\n",
       "78.0      0      0\n",
       "79.0      0      0\n",
       "80.0      1      0\n",
       "\n",
       "[81 rows x 2 columns]"
      ]
     },
     "execution_count": 116,
     "metadata": {},
     "output_type": "execute_result"
    }
   ],
   "source": [
    "pd.concat([counts, counts_imp], axis=1)"
   ]
  },
  {
   "cell_type": "code",
   "execution_count": 117,
   "id": "12a99c70",
   "metadata": {},
   "outputs": [
    {
     "data": {
      "text/plain": [
       "[<matplotlib.lines.Line2D at 0x14f491430>]"
      ]
     },
     "execution_count": 117,
     "metadata": {},
     "output_type": "execute_result"
    },
    {
     "data": {
      "image/png": "[encoded data removed]",
      "text/plain": [
       "<Figure size 640x480 with 1 Axes>"
      ]
     },
     "metadata": {},
     "output_type": "display_data"
    }
   ],
   "source": [
    "plt.plot(counts.rolling(5).mean())\n",
    "plt.plot(counts_imp.rolling(5).mean())"
   ]
  },
  {
   "cell_type": "code",
   "execution_count": 120,
   "id": "8006ba1e",
   "metadata": {},
   "outputs": [
    {
     "data": {
      "text/plain": [
       "<matplotlib.image.AxesImage at 0x15884f070>"
      ]
     },
     "execution_count": 120,
     "metadata": {},
     "output_type": "execute_result"
    },
    {
     "data": {
      "image/png": "[encoded data removed]",
      "text/plain": [
       "<Figure size 640x480 with 1 Axes>"
      ]
     },
     "metadata": {},
     "output_type": "display_data"
    }
   ],
   "source": [
    "plt.imshow(counts.to_frame() @ counts_imp.to_frame().T, cmap=\"gray\")"
   ]
  },
  {
   "cell_type": "code",
   "execution_count": null,
   "id": "b8cc543a",
   "metadata": {},
   "outputs": [],
   "source": []
  }
 ],
 "metadata": {
  "kernelspec": {
   "display_name": "env_qolmat_dev",
   "language": "python",
   "name": "env_qolmat_dev"
  },
  "language_info": {
   "codemirror_mode": {
    "name": "ipython",
    "version": 3
   },
   "file_extension": ".py",
   "mimetype": "text/x-python",
   "name": "python",
   "nbconvert_exporter": "python",
   "pygments_lexer": "ipython3",
   "version": "3.8.18"
  }
 },
 "nbformat": 4,
 "nbformat_minor": 5
}
