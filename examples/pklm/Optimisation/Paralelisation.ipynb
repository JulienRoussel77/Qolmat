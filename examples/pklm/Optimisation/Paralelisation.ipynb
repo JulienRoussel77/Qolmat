{
 "cells": [
  {
   "cell_type": "code",
   "execution_count": 7,
   "id": "d1d98837",
   "metadata": {},
   "outputs": [
    {
     "name": "stdout",
     "output_type": "stream",
     "text": [
      "--- 9.613310098648071 seconds ---\n"
     ]
    }
   ],
   "source": [
    "import time\n",
    "\n",
    "import pandas as pd\n",
    "import numpy as np\n",
    "\n",
    "from sklearn.ensemble import RandomForestClassifier\n",
    "\n",
    "\n",
    "data = {f\"Colonne_{i}\": np.random.normal(size=200).astype(float) for i in range(6)}\n",
    "df = pd.DataFrame(data)\n",
    "\n",
    "_, n_col = df.shape\n",
    "\n",
    "result = 0\n",
    "\n",
    "start_time = time.time()\n",
    "\n",
    "for _ in range (100):\n",
    "    df_classif = df.sample(np.random.randint(2, n_col), axis=1)\n",
    "    df_classif = df_classif.rename(columns={df_classif.columns[0]: 'target'})\n",
    "    df_classif['target'] = 1 * df_classif['target'].isnull()\n",
    "    X, y = df_classif.loc[:, df_classif.columns != \"target\"], df_classif[\"target\"]\n",
    "    clf = RandomForestClassifier(\n",
    "        n_estimators=200,\n",
    "        max_features=None,\n",
    "        min_samples_split=10,\n",
    "        bootstrap=True,\n",
    "        oob_score=True,\n",
    "        random_state=42\n",
    "    )\n",
    "    clf.fit(X, y)\n",
    "    \n",
    "    result += clf.score(X, y)\n",
    "    \n",
    "print(\"--- %s seconds ---\" % (time.time() - start_time))"
   ]
  },
  {
   "cell_type": "code",
   "execution_count": 5,
   "id": "91583a21",
   "metadata": {},
   "outputs": [
    {
     "name": "stdout",
     "output_type": "stream",
     "text": [
      "--- 26.025609016418457 seconds ---\n"
     ]
    }
   ],
   "source": [
    "import time\n",
    "\n",
    "import pandas as pd\n",
    "import numpy as np\n",
    "\n",
    "from sklearn.ensemble import RandomForestClassifier\n",
    "\n",
    "\n",
    "data = {f\"Colonne_{i}\": np.random.normal(size=200).astype(float) for i in range(6)}\n",
    "df = pd.DataFrame(data)\n",
    "\n",
    "_, n_col = df.shape\n",
    "\n",
    "result = 0\n",
    "\n",
    "start_time = time.time()\n",
    "\n",
    "for _ in range (100):\n",
    "    df_classif = df.sample(np.random.randint(2, n_col), axis=1)\n",
    "    df_classif = df_classif.rename(columns={df_classif.columns[0]: 'target'})\n",
    "    df_classif['target'] = 1 * df_classif['target'].isnull()\n",
    "    X, y = df_classif.loc[:, df_classif.columns != \"target\"], df_classif[\"target\"]\n",
    "    clf = RandomForestClassifier(\n",
    "        n_estimators=200,\n",
    "        max_features=None,\n",
    "        min_samples_split=10,\n",
    "        bootstrap=True,\n",
    "        oob_score=True,\n",
    "        random_state=42,\n",
    "        n_jobs=-1\n",
    "    )\n",
    "    clf.fit(X, y)\n",
    "    \n",
    "    result += clf.score(X, y)\n",
    "    \n",
    "print(\"--- %s seconds ---\" % (time.time() - start_time))"
   ]
  },
  {
   "cell_type": "code",
   "execution_count": 8,
   "id": "c651c52b",
   "metadata": {},
   "outputs": [
    {
     "name": "stdout",
     "output_type": "stream",
     "text": [
      "--- 1.8062052726745605 seconds ---\n",
      "Result: 100.0\n"
     ]
    }
   ],
   "source": [
    "import time\n",
    "\n",
    "import pandas as pd\n",
    "import numpy as np\n",
    "from sklearn.ensemble import RandomForestClassifier\n",
    "from joblib import Parallel, delayed\n",
    "\n",
    "# Génération de données\n",
    "data = {f\"Colonne_{i}\": np.random.normal(size=200).astype(float) for i in range(6)}\n",
    "df = pd.DataFrame(data)\n",
    "_, n_col = df.shape\n",
    "\n",
    "# Fonction pour effectuer une itération du processus\n",
    "def process_iteration(i):\n",
    "    df_classif = df.sample(np.random.randint(2, n_col), axis=1)\n",
    "    df_classif = df_classif.rename(columns={df_classif.columns[0]: 'target'})\n",
    "    df_classif['target'] = 1 * df_classif['target'].isnull()\n",
    "    X, y = df_classif.loc[:, df_classif.columns != \"target\"], df_classif[\"target\"]\n",
    "    clf = RandomForestClassifier(\n",
    "        n_estimators=200,\n",
    "        max_features=None,\n",
    "        min_samples_split=10,\n",
    "        bootstrap=True,\n",
    "        oob_score=True,\n",
    "        random_state=42\n",
    "    )\n",
    "    clf.fit(X, y)\n",
    "    return clf.score(X, y)\n",
    "\n",
    "start_time = time.time()\n",
    "\n",
    "# Utilisation de joblib pour paralléliser les itérations\n",
    "results = Parallel(n_jobs=-1)(delayed(process_iteration)(i) for i in range(100))\n",
    "\n",
    "# Calcul du résultat final\n",
    "result = sum(results)\n",
    "print(\"--- %s seconds ---\" % (time.time() - start_time))\n",
    "print(f\"Result: {result}\")"
   ]
  }
 ],
 "metadata": {
  "kernelspec": {
   "display_name": "Python 3 (ipykernel)",
   "language": "python",
   "name": "python3"
  },
  "language_info": {
   "codemirror_mode": {
    "name": "ipython",
    "version": 3
   },
   "file_extension": ".py",
   "mimetype": "text/x-python",
   "name": "python",
   "nbconvert_exporter": "python",
   "pygments_lexer": "ipython3",
   "version": "3.8.19"
  }
 },
 "nbformat": 4,
 "nbformat_minor": 5
}
