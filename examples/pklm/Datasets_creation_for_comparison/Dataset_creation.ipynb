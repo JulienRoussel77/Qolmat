{
 "cells": [
  {
   "cell_type": "code",
   "execution_count": 2,
   "id": "9f9c3954",
   "metadata": {},
   "outputs": [],
   "source": [
    "import numpy as np\n",
    "import pandas as pd"
   ]
  },
  {
   "cell_type": "code",
   "execution_count": 3,
   "id": "8a57d1c9",
   "metadata": {},
   "outputs": [],
   "source": [
    "def create_df_with_nan(n_rows: int, n_cols: int) -> pd.DataFrame:\n",
    "    data = {f\"Colonne_{i}\": np.random.normal(size=n_rows).astype(float) for i in range(n_cols)}\n",
    "    df = pd.DataFrame(data)\n",
    "    nb_valeurs_manquantes = int(0.35 * df.size)\n",
    "    indices_valeurs_manquantes = np.random.choice(df.size, nb_valeurs_manquantes, replace=False)\n",
    "    df.values.flat[indices_valeurs_manquantes] = np.nan\n",
    "    return df"
   ]
  },
  {
   "cell_type": "code",
   "execution_count": 4,
   "id": "1aa325a7",
   "metadata": {},
   "outputs": [],
   "source": [
    "create_df_with_nan(500, 10).to_csv(\"df_for_bug.csv\", index=False)"
   ]
  },
  {
   "cell_type": "code",
   "execution_count": 16,
   "id": "2fb7eb43",
   "metadata": {},
   "outputs": [],
   "source": [
    "config = {\n",
    "    \"df1\": {\"n_rows\": 200, \"n_cols\": 2},\n",
    "    \"df2\": {\"n_rows\": 500, \"n_cols\": 2},\n",
    "    \"df3\": {\"n_rows\": 500, \"n_cols\": 4},\n",
    "    \"df4\": {\"n_rows\": 1000, \"n_cols\": 4},\n",
    "    \"df5\": {\"n_rows\": 1000, \"n_cols\": 6},\n",
    "    \"df6\": {\"n_rows\": 10000, \"n_cols\": 6},\n",
    "    \"df7\": {\"n_rows\": 10000, \"n_cols\": 10},\n",
    "    \"df8\": {\"n_rows\": 100000, \"n_cols\": 10},\n",
    "    \"df9\": {\"n_rows\": 100000, \"n_cols\": 15}\n",
    "}"
   ]
  },
  {
   "cell_type": "code",
   "execution_count": 18,
   "id": "e542d35c",
   "metadata": {},
   "outputs": [],
   "source": [
    "for df_name, params in config.items():\n",
    "    df = create_df_with_nan(**params)\n",
    "    df.to_csv(f\"{df_name}.csv\", index=False)"
   ]
  }
 ],
 "metadata": {
  "kernelspec": {
   "display_name": "Python 3 (ipykernel)",
   "language": "python",
   "name": "python3"
  },
  "language_info": {
   "codemirror_mode": {
    "name": "ipython",
    "version": 3
   },
   "file_extension": ".py",
   "mimetype": "text/x-python",
   "name": "python",
   "nbconvert_exporter": "python",
   "pygments_lexer": "ipython3",
   "version": "3.8.19"
  }
 },
 "nbformat": 4,
 "nbformat_minor": 5
}
