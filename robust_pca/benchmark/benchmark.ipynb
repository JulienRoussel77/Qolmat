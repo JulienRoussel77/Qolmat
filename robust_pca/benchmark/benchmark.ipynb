{
 "cells": [
  {
   "cell_type": "code",
   "execution_count": 2,
   "metadata": {},
   "outputs": [],
   "source": [
    "%reload_ext autoreload\n",
    "%autoreload 2\n",
    "\n",
    "import pandas as pd\n",
    "import numpy as np\n",
    "np.random.seed(42)\n",
    "import pprint\n",
    "import s3fs\n",
    "\n",
    "import sys\n",
    "sys.path.append(\"../../\")\n",
    "from robust_pca.benchmark import comparator\n",
    "from robust_pca.imputations import models"
   ]
  },
  {
   "cell_type": "code",
   "execution_count": 3,
   "metadata": {},
   "outputs": [],
   "source": [
    "path = \"s3://aifluence-data2/data/02_intermediate/chatelet_pdt/H.parq\"\n",
    "df = pd.read_parquet(path, engine=\"pyarrow\")"
   ]
  },
  {
   "cell_type": "markdown",
   "metadata": {},
   "source": [
    "**data preparation**"
   ]
  },
  {
   "cell_type": "code",
   "execution_count": 4,
   "metadata": {},
   "outputs": [],
   "source": [
    "def nan_rule(df, columns, hours):\n",
    "    \"\"\"replace nan values by zero if \"true\" zero (e.g. no train during this period)\n",
    "    Parameters\n",
    "    ----------\n",
    "    df : pd.DataFrame\n",
    "        \"spatiotemporal\" dataframe\n",
    "    columns : List[str]\n",
    "        list of column names we have to replace nan by zero\n",
    "    hours : List[str]\n",
    "        list of hours for which we know there is no train -> true zeros\n",
    "    \"\"\"\n",
    "    data = df.copy()\n",
    "    data.loc[data.index.get_level_values(\"datetime\").hour.isin(hours), columns] = data.loc[data.index.get_level_values(\"datetime\").hour.isin(hours), columns].fillna(0)\n",
    "    return data\n",
    "\n",
    "\n",
    "data = df.reset_index()\n",
    "#del data[\"datetime\"]\n",
    "#data = data.rename(columns={\"datetime_theo_pdt\":\"datetime\"})\n",
    "data = data.sort_values(by=[\"station\", \"datetime\", \"position\"])\n",
    "data = data.set_index([\"line\",\"station\", \"datetime\", \"direction\"])\n",
    "data = nan_rule(data, [\"load\"], [0, 1, 2, 3])\n",
    "data = data.reset_index()"
   ]
  },
  {
   "cell_type": "code",
   "execution_count": 7,
   "metadata": {},
   "outputs": [],
   "source": [
    "data = data.iloc[:8]"
   ]
  },
  {
   "cell_type": "code",
   "execution_count": 8,
   "metadata": {},
   "outputs": [
    {
     "name": "stdout",
     "output_type": "stream",
     "text": [
      "0\n",
      "0\n"
     ]
    }
   ],
   "source": [
    "print(data[(data.position==2) & (data.n_coaches==2)][\"load\"].isna().sum())\n",
    "print(data[(data.position==1) & (data.n_coaches==2)][\"load\"].isna().sum())"
   ]
  },
  {
   "cell_type": "code",
   "execution_count": 9,
   "metadata": {},
   "outputs": [
    {
     "data": {
      "text/plain": [
       "array([], dtype=float64)"
      ]
     },
     "execution_count": 9,
     "metadata": {},
     "output_type": "execute_result"
    }
   ],
   "source": [
    "data[(data.n_coaches==2) & (data.load.isnull())][\"position\"].unique()"
   ]
  },
  {
   "cell_type": "markdown",
   "metadata": {},
   "source": [
    "**Comparator**"
   ]
  },
  {
   "cell_type": "code",
   "execution_count": 10,
   "metadata": {},
   "outputs": [],
   "source": [
    "models_to_test = [\n",
    "  # models.ImputeByMean([\"datetime.dt.dayofweek\", \"datetime.dt.round('10min')\"]),\n",
    "  # models.ImputeByMedian([\"datetime.dt.dayofweek\", \"datetime.dt.round('10min')\"]), \n",
    "  # models.RandomImpute(),\n",
    "  # models.ImputeLOCF(),\n",
    "  # models.ImputeNOCB(),\n",
    "  # models.ImputeByInterpolation(**{\"method\": \"linear\"}),\n",
    "  # models.ImputeBySpline(),\n",
    "  # models.ImputeKNN(),\n",
    "  models.ImputeRPCA(\n",
    "    method=\"temporal\", \n",
    "    aggregate_time=\"10min\", \n",
    "    multivariate=False,\n",
    "    **{\"n_rows\":24*12*7, \"maxIter\":10, \"tau\":1, \"lam\":0.8}\n",
    "    ),\n",
    "#   models.ImputeProphet(**{\n",
    "#               \"weekly_seasonality\": True, \n",
    "#               \"yearly_seasonality\": True,\n",
    "#               \"interval_width\": 0.95,\n",
    "#               })\n",
    "# models.ImputeRPCA(),\n",
    "]\n",
    "\n",
    "search_params = {\n",
    "  \"ImputeKNN\": {\"k\": {\"min\":2, \"max\":3, \"type\":\"Integer\"}},\n",
    "  \"ImputeProphet\": {\n",
    "          \"daily_seasonality\": {\"categories\": [True, False], \"type\":\"Categorical\"},\n",
    "        },\n",
    "  # \"ImputeRPCA\": {\n",
    "  #   \"lam\": {\"min\": 0.5, \"max\": 1, \"type\":\"Real\"},\n",
    "  #   \"tau\": {\"min\": 1, \"max\": 1.5, \"type\":\"Real\"},\n",
    "  # }\n",
    "}\n",
    "\n",
    "line = \"H\"\n",
    "station = \"VALMONDOIS\"\n",
    "direction = \"Paris\"\n",
    "dataset = data[(data[\"line\"]==line) & (data[\"station\"]==station) & (data[\"direction\"]==direction)]\n",
    "cols_to_impute = [\"load\"]\n",
    "\n",
    "# dataset = data[(data[\"line\"]==line) & (data[\"station\"]==station) & (data[\"direction\"]==direction)][[\"datetime\", \"load\"]]\n",
    "# dataset = dataset.set_index(\"datetime\")\n",
    "# dataset = dataset.squeeze()\n",
    "# #dataset = dataset.resample(\"5min\").agg(pd.Series.sum, skipna=False)\n",
    "# dataset = dataset.resample('5min').agg(lambda x: np.nan if np.isnan(x).all() else np.sum(x) )\n",
    "# print(dataset.isna().sum())\n",
    "# dataset = dataset.to_frame()\n",
    "\n",
    "dataset = dataset.set_index([\"line\",\"station\", \"datetime\", \"direction\"])\n",
    "# dataset = dataset.set_index([\"datetime\", \"direction\"])\n",
    "# dataset = dataframe with multiindex and at least, columns in cols_to_impute\n",
    "\n",
    "prop_nan = 0.05\n",
    "filter_value_nan = 20"
   ]
  },
  {
   "cell_type": "code",
   "execution_count": 11,
   "metadata": {},
   "outputs": [
    {
     "name": "stdout",
     "output_type": "stream",
     "text": [
      "ImputeRPCA\n"
     ]
    },
    {
     "ename": "KeyError",
     "evalue": "'agg_values'",
     "output_type": "error",
     "traceback": [
      "\u001b[0;31m---------------------------------------------------------------------------\u001b[0m",
      "\u001b[0;31mKeyError\u001b[0m                                  Traceback (most recent call last)",
      "File \u001b[0;32m~/anaconda3/envs/robust_pca/lib/python3.10/site-packages/pandas/core/indexes/base.py:3361\u001b[0m, in \u001b[0;36mIndex.get_loc\u001b[0;34m(self, key, method, tolerance)\u001b[0m\n\u001b[1;32m   3360\u001b[0m \u001b[38;5;28;01mtry\u001b[39;00m:\n\u001b[0;32m-> 3361\u001b[0m     \u001b[38;5;28;01mreturn\u001b[39;00m \u001b[38;5;28;43mself\u001b[39;49m\u001b[38;5;241;43m.\u001b[39;49m\u001b[43m_engine\u001b[49m\u001b[38;5;241;43m.\u001b[39;49m\u001b[43mget_loc\u001b[49m\u001b[43m(\u001b[49m\u001b[43mcasted_key\u001b[49m\u001b[43m)\u001b[49m\n\u001b[1;32m   3362\u001b[0m \u001b[38;5;28;01mexcept\u001b[39;00m \u001b[38;5;167;01mKeyError\u001b[39;00m \u001b[38;5;28;01mas\u001b[39;00m err:\n",
      "File \u001b[0;32m~/anaconda3/envs/robust_pca/lib/python3.10/site-packages/pandas/_libs/index.pyx:76\u001b[0m, in \u001b[0;36mpandas._libs.index.IndexEngine.get_loc\u001b[0;34m()\u001b[0m\n",
      "File \u001b[0;32m~/anaconda3/envs/robust_pca/lib/python3.10/site-packages/pandas/_libs/index.pyx:108\u001b[0m, in \u001b[0;36mpandas._libs.index.IndexEngine.get_loc\u001b[0;34m()\u001b[0m\n",
      "File \u001b[0;32mpandas/_libs/hashtable_class_helper.pxi:5198\u001b[0m, in \u001b[0;36mpandas._libs.hashtable.PyObjectHashTable.get_item\u001b[0;34m()\u001b[0m\n",
      "File \u001b[0;32mpandas/_libs/hashtable_class_helper.pxi:5206\u001b[0m, in \u001b[0;36mpandas._libs.hashtable.PyObjectHashTable.get_item\u001b[0;34m()\u001b[0m\n",
      "\u001b[0;31mKeyError\u001b[0m: 'agg_values'",
      "\nThe above exception was the direct cause of the following exception:\n",
      "\u001b[0;31mKeyError\u001b[0m                                  Traceback (most recent call last)",
      "Input \u001b[0;32mIn [11]\u001b[0m, in \u001b[0;36m<cell line: 9>\u001b[0;34m()\u001b[0m\n\u001b[1;32m      1\u001b[0m comparison \u001b[38;5;241m=\u001b[39m comparator\u001b[38;5;241m.\u001b[39mComparator(\n\u001b[1;32m      2\u001b[0m           dataset,\n\u001b[1;32m      3\u001b[0m           prop_nan, \n\u001b[0;32m   (...)\u001b[0m\n\u001b[1;32m      7\u001b[0m           filter_value_nan\u001b[38;5;241m=\u001b[39mfilter_value_nan,\n\u001b[1;32m      8\u001b[0m )\n\u001b[0;32m----> 9\u001b[0m results \u001b[38;5;241m=\u001b[39m \u001b[43mcomparison\u001b[49m\u001b[38;5;241;43m.\u001b[39;49m\u001b[43mcompare\u001b[49m\u001b[43m(\u001b[49m\u001b[43m)\u001b[49m\n\u001b[1;32m     11\u001b[0m pp \u001b[38;5;241m=\u001b[39m pprint\u001b[38;5;241m.\u001b[39mPrettyPrinter(depth\u001b[38;5;241m=\u001b[39m\u001b[38;5;241m4\u001b[39m)\n\u001b[1;32m     12\u001b[0m pp\u001b[38;5;241m.\u001b[39mpprint(results)\n",
      "File \u001b[0;32m~/robust_pca/robust_pca/benchmark/comparator.py:99\u001b[0m, in \u001b[0;36mComparator.compare\u001b[0;34m(self)\u001b[0m\n\u001b[1;32m     91\u001b[0m cv \u001b[38;5;241m=\u001b[39m cross_validation\u001b[38;5;241m.\u001b[39mCrossValidation(\n\u001b[1;32m     92\u001b[0m     tested_model,\n\u001b[1;32m     93\u001b[0m     search_space\u001b[38;5;241m=\u001b[39msearch_space,\n\u001b[0;32m   (...)\u001b[0m\n\u001b[1;32m     96\u001b[0m     corruption\u001b[38;5;241m=\u001b[39m\u001b[38;5;28mself\u001b[39m\u001b[38;5;241m.\u001b[39mcorruption,\n\u001b[1;32m     97\u001b[0m )\n\u001b[1;32m     98\u001b[0m \u001b[38;5;66;03m#print(\"# nan before imputation:\", df.isna().sum().sum())\u001b[39;00m\n\u001b[0;32m---> 99\u001b[0m imputed_df \u001b[38;5;241m=\u001b[39m \u001b[43mcv\u001b[49m\u001b[38;5;241;43m.\u001b[39;49m\u001b[43mfit_transform\u001b[49m\u001b[43m(\u001b[49m\u001b[38;5;28;43mself\u001b[39;49m\u001b[38;5;241;43m.\u001b[39;49m\u001b[43mcorrupted_df\u001b[49m\u001b[43m)\u001b[49m\n\u001b[1;32m    100\u001b[0m \u001b[38;5;66;03m#print(\"# nan after imputation...:\", imputed_df.isna().sum().sum())\u001b[39;00m\n\u001b[1;32m    101\u001b[0m \u001b[38;5;28;01mfor\u001b[39;00m k, v \u001b[38;5;129;01min\u001b[39;00m \u001b[38;5;28mself\u001b[39m\u001b[38;5;241m.\u001b[39mget_errors(df, imputed_df)\u001b[38;5;241m.\u001b[39mitems():\n",
      "File \u001b[0;32m~/robust_pca/robust_pca/benchmark/cross_validation.py:68\u001b[0m, in \u001b[0;36mCrossValidation.fit_transform\u001b[0;34m(self, signal)\u001b[0m\n\u001b[1;32m     65\u001b[0m \u001b[38;5;28mself\u001b[39m\u001b[38;5;241m.\u001b[39msignal \u001b[38;5;241m=\u001b[39m signal\n\u001b[1;32m     67\u001b[0m \u001b[38;5;28;01mif\u001b[39;00m \u001b[38;5;28mself\u001b[39m\u001b[38;5;241m.\u001b[39msearch_space \u001b[38;5;129;01mis\u001b[39;00m \u001b[38;5;28;01mNone\u001b[39;00m:\n\u001b[0;32m---> 68\u001b[0m     imputed_signal \u001b[38;5;241m=\u001b[39m \u001b[38;5;28;43mself\u001b[39;49m\u001b[38;5;241;43m.\u001b[39;49m\u001b[43mmodel\u001b[49m\u001b[38;5;241;43m.\u001b[39;49m\u001b[43mfit_transform\u001b[49m\u001b[43m(\u001b[49m\u001b[38;5;28;43mself\u001b[39;49m\u001b[38;5;241;43m.\u001b[39;49m\u001b[43msignal\u001b[49m\u001b[43m)\u001b[49m\n\u001b[1;32m     70\u001b[0m \u001b[38;5;28;01melse\u001b[39;00m:\n\u001b[1;32m     71\u001b[0m     res \u001b[38;5;241m=\u001b[39m skopt\u001b[38;5;241m.\u001b[39mgp_minimize(\n\u001b[1;32m     72\u001b[0m         \u001b[38;5;28mself\u001b[39m\u001b[38;5;241m.\u001b[39mobjective,\n\u001b[1;32m     73\u001b[0m         \u001b[38;5;28mself\u001b[39m\u001b[38;5;241m.\u001b[39msearch_space,\n\u001b[0;32m   (...)\u001b[0m\n\u001b[1;32m     76\u001b[0m         n_jobs\u001b[38;5;241m=\u001b[39m\u001b[38;5;241m-\u001b[39m\u001b[38;5;241m1\u001b[39m,\n\u001b[1;32m     77\u001b[0m     )\n",
      "File \u001b[0;32m~/robust_pca/robust_pca/imputations/models.py:240\u001b[0m, in \u001b[0;36mfit_transform\u001b[0;34m(self, df)\u001b[0m\n\u001b[1;32m    238\u001b[0m \n\u001b[1;32m    239\u001b[0m         if self.aggregate_time:\n\u001b[0;32m--> 240\u001b[0m             df_agg = pd.DataFrame()\n\u001b[1;32m    241\u001b[0m             for col in df.columns:\n\u001b[1;32m    242\u001b[0m                 df_to_agg = df.reset_index()\n",
      "File \u001b[0;32m~/anaconda3/envs/robust_pca/lib/python3.10/site-packages/pandas/core/frame.py:3458\u001b[0m, in \u001b[0;36mDataFrame.__getitem__\u001b[0;34m(self, key)\u001b[0m\n\u001b[1;32m   3456\u001b[0m \u001b[38;5;28;01mif\u001b[39;00m \u001b[38;5;28mself\u001b[39m\u001b[38;5;241m.\u001b[39mcolumns\u001b[38;5;241m.\u001b[39mnlevels \u001b[38;5;241m>\u001b[39m \u001b[38;5;241m1\u001b[39m:\n\u001b[1;32m   3457\u001b[0m     \u001b[38;5;28;01mreturn\u001b[39;00m \u001b[38;5;28mself\u001b[39m\u001b[38;5;241m.\u001b[39m_getitem_multilevel(key)\n\u001b[0;32m-> 3458\u001b[0m indexer \u001b[38;5;241m=\u001b[39m \u001b[38;5;28;43mself\u001b[39;49m\u001b[38;5;241;43m.\u001b[39;49m\u001b[43mcolumns\u001b[49m\u001b[38;5;241;43m.\u001b[39;49m\u001b[43mget_loc\u001b[49m\u001b[43m(\u001b[49m\u001b[43mkey\u001b[49m\u001b[43m)\u001b[49m\n\u001b[1;32m   3459\u001b[0m \u001b[38;5;28;01mif\u001b[39;00m is_integer(indexer):\n\u001b[1;32m   3460\u001b[0m     indexer \u001b[38;5;241m=\u001b[39m [indexer]\n",
      "File \u001b[0;32m~/anaconda3/envs/robust_pca/lib/python3.10/site-packages/pandas/core/indexes/base.py:3363\u001b[0m, in \u001b[0;36mIndex.get_loc\u001b[0;34m(self, key, method, tolerance)\u001b[0m\n\u001b[1;32m   3361\u001b[0m         \u001b[38;5;28;01mreturn\u001b[39;00m \u001b[38;5;28mself\u001b[39m\u001b[38;5;241m.\u001b[39m_engine\u001b[38;5;241m.\u001b[39mget_loc(casted_key)\n\u001b[1;32m   3362\u001b[0m     \u001b[38;5;28;01mexcept\u001b[39;00m \u001b[38;5;167;01mKeyError\u001b[39;00m \u001b[38;5;28;01mas\u001b[39;00m err:\n\u001b[0;32m-> 3363\u001b[0m         \u001b[38;5;28;01mraise\u001b[39;00m \u001b[38;5;167;01mKeyError\u001b[39;00m(key) \u001b[38;5;28;01mfrom\u001b[39;00m \u001b[38;5;21;01merr\u001b[39;00m\n\u001b[1;32m   3365\u001b[0m \u001b[38;5;28;01mif\u001b[39;00m is_scalar(key) \u001b[38;5;129;01mand\u001b[39;00m isna(key) \u001b[38;5;129;01mand\u001b[39;00m \u001b[38;5;129;01mnot\u001b[39;00m \u001b[38;5;28mself\u001b[39m\u001b[38;5;241m.\u001b[39mhasnans:\n\u001b[1;32m   3366\u001b[0m     \u001b[38;5;28;01mraise\u001b[39;00m \u001b[38;5;167;01mKeyError\u001b[39;00m(key)\n",
      "\u001b[0;31mKeyError\u001b[0m: 'agg_values'"
     ]
    }
   ],
   "source": [
    "comparison = comparator.Comparator(\n",
    "          dataset,\n",
    "          prop_nan, \n",
    "          models_to_test, \n",
    "          cols_to_impute,\n",
    "          search_params=search_params,\n",
    "          filter_value_nan=filter_value_nan,\n",
    ")\n",
    "results = comparison.compare()\n",
    "\n",
    "pp = pprint.PrettyPrinter(depth=4)\n",
    "pp.pprint(results)"
   ]
  },
  {
   "cell_type": "code",
   "execution_count": null,
   "metadata": {},
   "outputs": [],
   "source": []
  }
 ],
 "metadata": {
  "interpreter": {
   "hash": "0585498b77b0aa3c43ebc4f7917148a4a0d08100a06badb4b7a374b623f6ac92"
  },
  "kernelspec": {
   "display_name": "robust_pca",
   "language": "python",
   "name": "robust_pca"
  },
  "language_info": {
   "codemirror_mode": {
    "name": "ipython",
    "version": 3
   },
   "file_extension": ".py",
   "mimetype": "text/x-python",
   "name": "python",
   "nbconvert_exporter": "python",
   "pygments_lexer": "ipython3",
   "version": "3.10.4"
  }
 },
 "nbformat": 4,
 "nbformat_minor": 4
}
