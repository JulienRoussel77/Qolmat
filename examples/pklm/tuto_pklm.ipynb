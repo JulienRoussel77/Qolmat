{
 "cells": [
  {
   "cell_type": "code",
   "execution_count": 10,
   "id": "4cf3e844",
   "metadata": {},
   "outputs": [],
   "source": [
    "from matplotlib import pyplot as plt\n",
    "import time\n",
    "\n",
    "import numpy as np\n",
    "import pandas as pd\n",
    "from scipy.stats import norm\n",
    "\n",
    "from qolmat.analysis.holes_characterization import PKLMTest\n",
    "from qolmat.benchmark.missing_patterns import UniformHoleGenerator\n",
    "\n",
    "plt.rcParams.update({\"font.size\": 12})"
   ]
  },
  {
   "cell_type": "code",
   "execution_count": 2,
   "id": "7e3202a6",
   "metadata": {},
   "outputs": [],
   "source": [
    "rng = np.random.default_rng(42)\n",
    "n_rows, n_cols = 5000, 4\n",
    "matrix = rng.normal(size=(n_rows, n_cols))\n",
    "num_nan = int(n_rows * n_cols * 0.20)\n",
    "nan_indices = rng.choice(n_rows * n_cols, num_nan, replace=False)\n",
    "matrix.flat[nan_indices] = np.nan"
   ]
  },
  {
   "cell_type": "markdown",
   "id": "a44983a6",
   "metadata": {},
   "source": [
    "### First test with 'exact_p_value' = True"
   ]
  },
  {
   "cell_type": "code",
   "execution_count": 3,
   "id": "636bbd6c",
   "metadata": {},
   "outputs": [
    {
     "name": "stdout",
     "output_type": "stream",
     "text": [
      "0.7096774193548387\n",
      "--- 11.930958271026611 seconds ---\n"
     ]
    }
   ],
   "source": [
    "pklm_test = PKLMTest(\n",
    "    nb_projections=100,\n",
    "    nb_permutation=30,\n",
    "    nb_trees_per_proj=200,\n",
    "    exact_p_value=True,\n",
    "    random_state=42\n",
    ")\n",
    "\n",
    "start_time = time.time()\n",
    "p_v = pklm_test.test(matrix)\n",
    "print(p_v)\n",
    "print(\"--- %s seconds ---\" % (time.time() - start_time))"
   ]
  },
  {
   "cell_type": "markdown",
   "id": "75fedc83",
   "metadata": {},
   "source": [
    "### First test with 'exact_p_value' = False"
   ]
  },
  {
   "cell_type": "code",
   "execution_count": 4,
   "id": "103fbb01",
   "metadata": {},
   "outputs": [
    {
     "name": "stdout",
     "output_type": "stream",
     "text": [
      "0.7096774193548387\n",
      "--- 10.284496068954468 seconds ---\n"
     ]
    }
   ],
   "source": [
    "pklm_test = PKLMTest(\n",
    "    nb_projections=100,\n",
    "    nb_permutation=30,\n",
    "    nb_trees_per_proj=200,\n",
    "    exact_p_value=False,\n",
    "    random_state=42\n",
    ")\n",
    "\n",
    "start_time = time.time()\n",
    "p_v = pklm_test.test(matrix)\n",
    "print(p_v)\n",
    "print(\"--- %s seconds ---\" % (time.time() - start_time))"
   ]
  },
  {
   "cell_type": "markdown",
   "id": "ea1fc33c",
   "metadata": {},
   "source": [
    "__Notes__ :\n",
    "\n",
    "- First this a weird to get the exact same results.\n",
    "- Second, this is also weird that the second execution is juste one second faster.\n",
    "\n",
    "This need to be reviewed and fixed"
   ]
  },
  {
   "cell_type": "markdown",
   "id": "e000784b",
   "metadata": {},
   "source": [
    "### Test with pandas dataframe and mixed datatypes"
   ]
  },
  {
   "cell_type": "code",
   "execution_count": 5,
   "id": "319e5a7f",
   "metadata": {
    "scrolled": true
   },
   "outputs": [
    {
     "data": {
      "text/html": [
       "<div>\n",
       "<style scoped>\n",
       "    .dataframe tbody tr th:only-of-type {\n",
       "        vertical-align: middle;\n",
       "    }\n",
       "\n",
       "    .dataframe tbody tr th {\n",
       "        vertical-align: top;\n",
       "    }\n",
       "\n",
       "    .dataframe thead th {\n",
       "        text-align: right;\n",
       "    }\n",
       "</style>\n",
       "<table border=\"1\" class=\"dataframe\">\n",
       "  <thead>\n",
       "    <tr style=\"text-align: right;\">\n",
       "      <th></th>\n",
       "      <th>Numeric1</th>\n",
       "      <th>Numeric2</th>\n",
       "      <th>Boolean</th>\n",
       "      <th>Category</th>\n",
       "    </tr>\n",
       "  </thead>\n",
       "  <tbody>\n",
       "    <tr>\n",
       "      <th>0</th>\n",
       "      <td>24.845528</td>\n",
       "      <td>92</td>\n",
       "      <td>False</td>\n",
       "      <td>B</td>\n",
       "    </tr>\n",
       "    <tr>\n",
       "      <th>1</th>\n",
       "      <td>45.993513</td>\n",
       "      <td>69</td>\n",
       "      <td>False</td>\n",
       "      <td>D</td>\n",
       "    </tr>\n",
       "    <tr>\n",
       "      <th>2</th>\n",
       "      <td>86.659194</td>\n",
       "      <td>2</td>\n",
       "      <td>False</td>\n",
       "      <td>B</td>\n",
       "    </tr>\n",
       "    <tr>\n",
       "      <th>3</th>\n",
       "      <td>41.945953</td>\n",
       "      <td>34</td>\n",
       "      <td>False</td>\n",
       "      <td>C</td>\n",
       "    </tr>\n",
       "    <tr>\n",
       "      <th>4</th>\n",
       "      <td>88.457495</td>\n",
       "      <td>71</td>\n",
       "      <td>True</td>\n",
       "      <td>C</td>\n",
       "    </tr>\n",
       "  </tbody>\n",
       "</table>\n",
       "</div>"
      ],
      "text/plain": [
       "    Numeric1  Numeric2  Boolean Category\n",
       "0  24.845528        92    False        B\n",
       "1  45.993513        69    False        D\n",
       "2  86.659194         2    False        B\n",
       "3  41.945953        34    False        C\n",
       "4  88.457495        71     True        C"
      ]
     },
     "execution_count": 5,
     "metadata": {},
     "output_type": "execute_result"
    }
   ],
   "source": [
    "import pandas as pd\n",
    "import numpy as np\n",
    "\n",
    "# Définir le nombre de lignes\n",
    "n_rows = 100\n",
    "\n",
    "col1 = np.random.rand(n_rows) * 100\n",
    "col2 = np.random.randint(1, 100, n_rows)\n",
    "col3 = np.random.choice([True, False], n_rows)\n",
    "modalities = ['A', 'B', 'C', 'D']\n",
    "col4 = np.random.choice(modalities, n_rows)\n",
    "\n",
    "df = pd.DataFrame({\n",
    "    'Numeric1': col1,\n",
    "    'Numeric2': col2,\n",
    "    'Boolean': col3,\n",
    "    'Category': col4\n",
    "})\n",
    "\n",
    "df.head()"
   ]
  },
  {
   "cell_type": "markdown",
   "id": "338dac31",
   "metadata": {},
   "source": [
    "__Holes_creation__ : According tot he Qolmat tool"
   ]
  },
  {
   "cell_type": "code",
   "execution_count": 8,
   "id": "26c54631",
   "metadata": {},
   "outputs": [
    {
     "data": {
      "text/html": [
       "<div>\n",
       "<style scoped>\n",
       "    .dataframe tbody tr th:only-of-type {\n",
       "        vertical-align: middle;\n",
       "    }\n",
       "\n",
       "    .dataframe tbody tr th {\n",
       "        vertical-align: top;\n",
       "    }\n",
       "\n",
       "    .dataframe thead th {\n",
       "        text-align: right;\n",
       "    }\n",
       "</style>\n",
       "<table border=\"1\" class=\"dataframe\">\n",
       "  <thead>\n",
       "    <tr style=\"text-align: right;\">\n",
       "      <th></th>\n",
       "      <th>Numeric1</th>\n",
       "      <th>Numeric2</th>\n",
       "      <th>Boolean</th>\n",
       "      <th>Category</th>\n",
       "    </tr>\n",
       "  </thead>\n",
       "  <tbody>\n",
       "    <tr>\n",
       "      <th>0</th>\n",
       "      <td>NaN</td>\n",
       "      <td>92.0</td>\n",
       "      <td>False</td>\n",
       "      <td>B</td>\n",
       "    </tr>\n",
       "    <tr>\n",
       "      <th>1</th>\n",
       "      <td>45.993513</td>\n",
       "      <td>69.0</td>\n",
       "      <td>False</td>\n",
       "      <td>D</td>\n",
       "    </tr>\n",
       "    <tr>\n",
       "      <th>2</th>\n",
       "      <td>86.659194</td>\n",
       "      <td>2.0</td>\n",
       "      <td>False</td>\n",
       "      <td>B</td>\n",
       "    </tr>\n",
       "    <tr>\n",
       "      <th>3</th>\n",
       "      <td>41.945953</td>\n",
       "      <td>34.0</td>\n",
       "      <td>False</td>\n",
       "      <td>C</td>\n",
       "    </tr>\n",
       "    <tr>\n",
       "      <th>4</th>\n",
       "      <td>NaN</td>\n",
       "      <td>71.0</td>\n",
       "      <td>True</td>\n",
       "      <td>NaN</td>\n",
       "    </tr>\n",
       "  </tbody>\n",
       "</table>\n",
       "</div>"
      ],
      "text/plain": [
       "    Numeric1  Numeric2 Boolean Category\n",
       "0        NaN      92.0   False        B\n",
       "1  45.993513      69.0   False        D\n",
       "2  86.659194       2.0   False        B\n",
       "3  41.945953      34.0   False        C\n",
       "4        NaN      71.0    True      NaN"
      ]
     },
     "execution_count": 8,
     "metadata": {},
     "output_type": "execute_result"
    }
   ],
   "source": [
    "hole_gen = UniformHoleGenerator(\n",
    "    n_splits=1,\n",
    "    ratio_masked=0.2,\n",
    "    subset=['Numeric1', 'Numeric2', 'Boolean', 'Category'],\n",
    "    random_state=42\n",
    ")\n",
    "df_mask = hole_gen.generate_mask(df)\n",
    "df_nan = df.where(~df_mask, np.nan)\n",
    "df_nan.head()"
   ]
  },
  {
   "cell_type": "code",
   "execution_count": 9,
   "id": "637f56c5",
   "metadata": {},
   "outputs": [
    {
     "name": "stdout",
     "output_type": "stream",
     "text": [
      "0.6129032258064516\n",
      "--- 1.973733901977539 seconds ---\n"
     ]
    }
   ],
   "source": [
    "pklm_test = PKLMTest(\n",
    "    nb_projections=100,\n",
    "    nb_permutation=30,\n",
    "    nb_trees_per_proj=200,\n",
    "    random_state=42\n",
    ")\n",
    "\n",
    "start_time = time.time()\n",
    "p_v = pklm_test.test(df_nan)\n",
    "print(p_v)\n",
    "print(\"--- %s seconds ---\" % (time.time() - start_time))"
   ]
  },
  {
   "cell_type": "markdown",
   "id": "ee8a1315",
   "metadata": {},
   "source": [
    "### Go back with the previous examples"
   ]
  },
  {
   "cell_type": "code",
   "execution_count": 11,
   "id": "2ca2ef5c",
   "metadata": {},
   "outputs": [],
   "source": [
    "rng = np.random.RandomState(42)\n",
    "data = rng.multivariate_normal(mean=[0, 0], cov=[[1, 0], [0, 1]], size=200)\n",
    "df = pd.DataFrame(data=data, columns=[\"Column 1\", \"Column 2\"])\n",
    "\n",
    "q975 = norm.ppf(0.975)"
   ]
  },
  {
   "cell_type": "code",
   "execution_count": 21,
   "id": "e1a01a57",
   "metadata": {},
   "outputs": [],
   "source": [
    "pklm_test = PKLMTest(\n",
    "    nb_projections=100,\n",
    "    nb_permutation=100,\n",
    "    nb_trees_per_proj=200,\n",
    "    random_state=42\n",
    ")"
   ]
  },
  {
   "cell_type": "markdown",
   "id": "1f39721c",
   "metadata": {},
   "source": [
    "### Case 1: MCAR holes (True negative)¶"
   ]
  },
  {
   "cell_type": "code",
   "execution_count": 22,
   "id": "a72d5da1",
   "metadata": {},
   "outputs": [
    {
     "name": "stdout",
     "output_type": "stream",
     "text": [
      "0.9207920792079208\n",
      "--- 2.251690149307251 seconds ---\n"
     ]
    }
   ],
   "source": [
    "hole_gen = UniformHoleGenerator(\n",
    "    n_splits=1, random_state=rng, subset=[\"Column 2\"], ratio_masked=0.2\n",
    ")\n",
    "df_mask = hole_gen.generate_mask(df)\n",
    "df_nan = df.where(~df_mask, np.nan)\n",
    "\n",
    "start_time = time.time()\n",
    "p_v = pklm_test.test(df_nan)\n",
    "print(p_v)\n",
    "print(\"--- %s seconds ---\" % (time.time() - start_time))"
   ]
  },
  {
   "cell_type": "markdown",
   "id": "b113ded2",
   "metadata": {},
   "source": [
    "### Case 2: MAR holes with mean bias (True positive)¶"
   ]
  },
  {
   "cell_type": "code",
   "execution_count": 23,
   "id": "86e75c47",
   "metadata": {},
   "outputs": [
    {
     "name": "stdout",
     "output_type": "stream",
     "text": [
      "0.009900990099009901\n",
      "--- 2.0787599086761475 seconds ---\n"
     ]
    }
   ],
   "source": [
    "df_mask = pd.DataFrame({\"Column 1\": False, \"Column 2\": df[\"Column 1\"] > q975}, index=df.index)\n",
    "\n",
    "df_nan = df.where(~df_mask, np.nan)\n",
    "\n",
    "start_time = time.time()\n",
    "p_v = pklm_test.test(df_nan)\n",
    "print(p_v)\n",
    "print(\"--- %s seconds ---\" % (time.time() - start_time))"
   ]
  },
  {
   "cell_type": "markdown",
   "id": "3262ae8c",
   "metadata": {},
   "source": [
    "### Case 3: MAR holes with any mean bias (False negative)"
   ]
  },
  {
   "cell_type": "code",
   "execution_count": 24,
   "id": "60f35623",
   "metadata": {},
   "outputs": [
    {
     "name": "stdout",
     "output_type": "stream",
     "text": [
      "0.009900990099009901\n",
      "--- 2.1425230503082275 seconds ---\n"
     ]
    }
   ],
   "source": [
    "df_mask = pd.DataFrame(\n",
    "    {\"Column 1\": False, \"Column 2\": df[\"Column 1\"].abs() > q975}, index=df.index\n",
    ")\n",
    "\n",
    "df_nan = df.where(~df_mask, np.nan)\n",
    "\n",
    "start_time = time.time()\n",
    "p_v = pklm_test.test(df_nan)\n",
    "print(p_v)\n",
    "print(\"--- %s seconds ---\" % (time.time() - start_time))"
   ]
  }
 ],
 "metadata": {
  "kernelspec": {
   "display_name": "Python 3 (ipykernel)",
   "language": "python",
   "name": "python3"
  },
  "language_info": {
   "codemirror_mode": {
    "name": "ipython",
    "version": 3
   },
   "file_extension": ".py",
   "mimetype": "text/x-python",
   "name": "python",
   "nbconvert_exporter": "python",
   "pygments_lexer": "ipython3",
   "version": "3.8.19"
  }
 },
 "nbformat": 4,
 "nbformat_minor": 5
}
