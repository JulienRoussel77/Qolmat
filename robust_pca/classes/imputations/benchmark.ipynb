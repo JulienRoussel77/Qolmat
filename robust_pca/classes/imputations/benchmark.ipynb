{
 "cells": [
  {
   "cell_type": "code",
   "execution_count": null,
   "metadata": {},
   "outputs": [],
   "source": [
    "%reload_ext autoreload\n",
    "%autoreload 2\n",
    "\n",
    "import pandas as pd\n",
    "import numpy as np\n",
    "np.random.seed(42)\n",
    "import pprint\n",
    "\n",
    "import models, cross_validation, comparator"
   ]
  },
  {
   "cell_type": "code",
   "execution_count": null,
   "metadata": {},
   "outputs": [],
   "source": [
    "df = pd.read_csv()\n",
    "\n",
    "# on a un csv avec multiindex \"line\", \"station\", \"datetime\", \"direction\""
   ]
  },
  {
   "cell_type": "code",
   "execution_count": null,
   "metadata": {},
   "outputs": [],
   "source": [
    "models_to_test = [\n",
    "  models.ImputeByMean(), \n",
    "  models.ImputeByMedian(), \n",
    "  models.RandomImpute(),\n",
    "  models.ImputeLOCF(),\n",
    "  models.ImputeNOCB(),\n",
    "  models.ImputeKNN(),\n",
    "  models.ImputeProphet(**{\n",
    "              \"weekly_seasonality\": True, \n",
    "              \"yearly_seasonality\": True,\n",
    "              \"interval_width\": 0.95,\n",
    "              })\n",
    "]\n",
    "\n",
    "search_params = {\n",
    "  \"ImputeKNN\": {\"k\": {\"min\":8, \"max\":10, \"type\":\"Integer\"}},\n",
    "  \"ImputeProphet\": {\n",
    "          \"daily_seasonality\": {\"categories\": [True, False], \"type\":\"Categorical\"},\n",
    "        }\n",
    "  }\n",
    "\n",
    "data = df\n",
    "line = \"H\"\n",
    "prop_nan = 0.1\n",
    "\n",
    "comparison = comparator.Comparator(\n",
    "          data, line, prop_nan, \n",
    "          models_to_test, \n",
    "          search_params=search_params\n",
    ")\n",
    "comparison.compare()\n",
    "\n",
    "pp = pprint.PrettyPrinter(depth=4)\n",
    "pp.pprint(comparison.results)"
   ]
  }
 ],
 "metadata": {
  "language_info": {
   "name": "python"
  },
  "orig_nbformat": 4
 },
 "nbformat": 4,
 "nbformat_minor": 2
}
