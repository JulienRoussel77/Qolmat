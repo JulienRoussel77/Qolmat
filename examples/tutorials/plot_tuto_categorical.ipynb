{
 "cells": [
  {
   "cell_type": "code",
   "execution_count": 1,
   "id": "9825a2a4",
   "metadata": {},
   "outputs": [],
   "source": [
    "%load_ext autoreload\n",
    "%autoreload 2"
   ]
  },
  {
   "cell_type": "code",
   "execution_count": 2,
   "id": "75c7c867",
   "metadata": {},
   "outputs": [
    {
     "name": "stderr",
     "output_type": "stream",
     "text": [
      "OMP: Info #276: omp_set_nested routine deprecated, please use omp_set_max_active_levels instead.\n"
     ]
    }
   ],
   "source": [
    "import matplotlib.pyplot as plt\n",
    "import numpy as np\n",
    "import pandas as pd\n",
    "# import seaborn as sns\n",
    "\n",
    "from qolmat.imputations.imputers import ImputerMICE, ImputerRegressor\n",
    "from qolmat.imputations import estimators\n",
    "from qolmat.benchmark.metrics import get_metric\n",
    "from qolmat.benchmark import missing_patterns\n",
    "from qolmat.benchmark import comparator\n",
    "from qolmat.utils import plot\n",
    "from qolmat.imputations import imputers\n",
    "\n",
    "from sklearn.preprocessing import OrdinalEncoder, OneHotEncoder, StandardScaler\n",
    "from sklearn.pipeline import Pipeline\n",
    "from sklearn.ensemble import RandomForestClassifier, HistGradientBoostingRegressor, HistGradientBoostingClassifier\n",
    "from sklearn.compose import ColumnTransformer\n",
    "from sklearn.impute import SimpleImputer\n",
    "\n",
    "from sklearn.base import (\n",
    "    BaseEstimator,\n",
    "    ClassifierMixin,\n",
    "    RegressorMixin,\n",
    ")\n",
    "from sklearn.compose import make_column_selector as selector\n",
    "\n",
    "from category_encoders.one_hot import OneHotEncoder"
   ]
  },
  {
   "cell_type": "code",
   "execution_count": 3,
   "id": "f3c3123a",
   "metadata": {},
   "outputs": [],
   "source": [
    "df = pd.read_csv(\"../data/titanic.csv\", sep=\";\")"
   ]
  },
  {
   "cell_type": "code",
   "execution_count": 4,
   "id": "f0e55166",
   "metadata": {},
   "outputs": [],
   "source": [
    "y = df[\"survived\"] == 1"
   ]
  },
  {
   "cell_type": "code",
   "execution_count": 5,
   "id": "9ed4714e",
   "metadata": {},
   "outputs": [],
   "source": [
    "df = df.dropna(how=\"all\")\n",
    "df = df.drop(columns=[\"pclass\", \"survived\", \"name\", \"home.dest\", \"cabin\", \"ticket\", \"boat\", \"body\"])"
   ]
  },
  {
   "cell_type": "code",
   "execution_count": 6,
   "id": "29ef7edf",
   "metadata": {},
   "outputs": [],
   "source": [
    "df[\"age\"] = pd.to_numeric(df[\"age\"], errors=\"coerce\")\n",
    "df[\"fare\"] = pd.to_numeric(df[\"fare\"].str.replace(\",\", \"\"), errors=\"coerce\")"
   ]
  },
  {
   "cell_type": "code",
   "execution_count": 7,
   "id": "30007678",
   "metadata": {},
   "outputs": [
    {
     "data": {
      "text/html": [
       "<div>\n",
       "<style scoped>\n",
       "    .dataframe tbody tr th:only-of-type {\n",
       "        vertical-align: middle;\n",
       "    }\n",
       "\n",
       "    .dataframe tbody tr th {\n",
       "        vertical-align: top;\n",
       "    }\n",
       "\n",
       "    .dataframe thead th {\n",
       "        text-align: right;\n",
       "    }\n",
       "</style>\n",
       "<table border=\"1\" class=\"dataframe\">\n",
       "  <thead>\n",
       "    <tr style=\"text-align: right;\">\n",
       "      <th></th>\n",
       "      <th>sex</th>\n",
       "      <th>age</th>\n",
       "      <th>sibsp</th>\n",
       "      <th>parch</th>\n",
       "      <th>fare</th>\n",
       "      <th>embarked</th>\n",
       "    </tr>\n",
       "  </thead>\n",
       "  <tbody>\n",
       "    <tr>\n",
       "      <th>0</th>\n",
       "      <td>female</td>\n",
       "      <td>29.0</td>\n",
       "      <td>0.0</td>\n",
       "      <td>0.0</td>\n",
       "      <td>2113375.0</td>\n",
       "      <td>S</td>\n",
       "    </tr>\n",
       "    <tr>\n",
       "      <th>1</th>\n",
       "      <td>male</td>\n",
       "      <td>NaN</td>\n",
       "      <td>1.0</td>\n",
       "      <td>2.0</td>\n",
       "      <td>1515500.0</td>\n",
       "      <td>S</td>\n",
       "    </tr>\n",
       "    <tr>\n",
       "      <th>2</th>\n",
       "      <td>female</td>\n",
       "      <td>2.0</td>\n",
       "      <td>1.0</td>\n",
       "      <td>2.0</td>\n",
       "      <td>1515500.0</td>\n",
       "      <td>S</td>\n",
       "    </tr>\n",
       "  </tbody>\n",
       "</table>\n",
       "</div>"
      ],
      "text/plain": [
       "      sex   age  sibsp  parch       fare embarked\n",
       "0  female  29.0    0.0    0.0  2113375.0        S\n",
       "1    male   NaN    1.0    2.0  1515500.0        S\n",
       "2  female   2.0    1.0    2.0  1515500.0        S"
      ]
     },
     "execution_count": 7,
     "metadata": {},
     "output_type": "execute_result"
    }
   ],
   "source": [
    "df.head(3)"
   ]
  },
  {
   "cell_type": "code",
   "execution_count": 8,
   "id": "96e6886f",
   "metadata": {},
   "outputs": [],
   "source": [
    "selector_cat = selector(dtype_exclude=np.number)\n",
    "cols_cat = selector_cat(df)"
   ]
  },
  {
   "cell_type": "code",
   "execution_count": 9,
   "id": "40715444",
   "metadata": {},
   "outputs": [],
   "source": [
    "imputer_rpca = imputers.ImputerRpcaNoisy()\n",
    "ohe = OneHotEncoder(handle_unknown=\"ignore\", handle_missing=\"return_nan\", use_cat_names=True, cols=cols_cat)\n",
    "bt = estimators.BinTransformer()\n",
    "wrapper = Pipeline(steps=[(\"OneHotEncoder\", ohe), (\"BinTransformer\", bt)])\n",
    "\n",
    "imputer_rpca = estimators.WrapperTransformer(imputer_rpca, wrapper)"
   ]
  },
  {
   "cell_type": "code",
   "execution_count": 10,
   "id": "75a80514",
   "metadata": {},
   "outputs": [],
   "source": [
    "pipestimator = estimators.make_robust_MixteHGB(allow_new=False)\n",
    "imputer_hgb = ImputerRegressor(estimator=pipestimator, handler_nan=\"none\")"
   ]
  },
  {
   "cell_type": "code",
   "execution_count": 11,
   "id": "e3d58326",
   "metadata": {},
   "outputs": [],
   "source": [
    "imputer_simple = imputers.ImputerSimple()"
   ]
  },
  {
   "cell_type": "code",
   "execution_count": 12,
   "id": "74a53d21",
   "metadata": {},
   "outputs": [],
   "source": [
    "dict_imputers = {\"Simple\": imputer_simple, \"HGB\": imputer_hgb, \"RPCA\": imputer_rpca}\n",
    "cols_to_impute = df.columns\n",
    "ratio_masked = .1\n",
    "generator_holes = missing_patterns.UniformHoleGenerator(n_splits=2, subset=cols_to_impute, ratio_masked=ratio_masked, sample_proportional=False)\n",
    "# metrics = [\"mae\", \"wmape\", \"KL_columnwise\", \"frechet\"]\n",
    "metrics = [\"mae\"]"
   ]
  },
  {
   "cell_type": "code",
   "execution_count": 13,
   "id": "8fef454d",
   "metadata": {},
   "outputs": [
    {
     "name": "stdout",
     "output_type": "stream",
     "text": [
      "Tested model: ImputerSimple\n",
      "Tested model: ImputerRegressor\n",
      "Tested model: WrapperTransformer\n"
     ]
    },
    {
     "data": {
      "text/html": [
       "<style type=\"text/css\">\n",
       "#T_eae5b_row0_col1, #T_eae5b_row1_col1, #T_eae5b_row2_col1, #T_eae5b_row3_col1 {\n",
       "  background-color: lightgreen;\n",
       "}\n",
       "</style>\n",
       "<table id=\"T_eae5b\">\n",
       "  <thead>\n",
       "    <tr>\n",
       "      <th class=\"blank\" >&nbsp;</th>\n",
       "      <th class=\"blank level0\" >&nbsp;</th>\n",
       "      <th id=\"T_eae5b_level0_col0\" class=\"col_heading level0 col0\" >Simple</th>\n",
       "      <th id=\"T_eae5b_level0_col1\" class=\"col_heading level0 col1\" >HGB</th>\n",
       "      <th id=\"T_eae5b_level0_col2\" class=\"col_heading level0 col2\" >RPCA</th>\n",
       "    </tr>\n",
       "  </thead>\n",
       "  <tbody>\n",
       "    <tr>\n",
       "      <th id=\"T_eae5b_level0_row0\" class=\"row_heading level0 row0\" rowspan=\"4\">mae</th>\n",
       "      <th id=\"T_eae5b_level1_row0\" class=\"row_heading level1 row0\" >age</th>\n",
       "      <td id=\"T_eae5b_row0_col0\" class=\"data row0 col0\" >10.835878</td>\n",
       "      <td id=\"T_eae5b_row0_col1\" class=\"data row0 col1\" >10.461832</td>\n",
       "      <td id=\"T_eae5b_row0_col2\" class=\"data row0 col2\" >11.019084</td>\n",
       "    </tr>\n",
       "    <tr>\n",
       "      <th id=\"T_eae5b_level1_row1\" class=\"row_heading level1 row1\" >sibsp</th>\n",
       "      <td id=\"T_eae5b_row1_col0\" class=\"data row1 col0\" >0.480916</td>\n",
       "      <td id=\"T_eae5b_row1_col1\" class=\"data row1 col1\" >0.389313</td>\n",
       "      <td id=\"T_eae5b_row1_col2\" class=\"data row1 col2\" >0.496183</td>\n",
       "    </tr>\n",
       "    <tr>\n",
       "      <th id=\"T_eae5b_level1_row2\" class=\"row_heading level1 row2\" >parch</th>\n",
       "      <td id=\"T_eae5b_row2_col0\" class=\"data row2 col0\" >0.393130</td>\n",
       "      <td id=\"T_eae5b_row2_col1\" class=\"data row2 col1\" >0.332061</td>\n",
       "      <td id=\"T_eae5b_row2_col2\" class=\"data row2 col2\" >0.381679</td>\n",
       "    </tr>\n",
       "    <tr>\n",
       "      <th id=\"T_eae5b_level1_row3\" class=\"row_heading level1 row3\" >fare</th>\n",
       "      <td id=\"T_eae5b_row3_col0\" class=\"data row3 col0\" >257539.438931</td>\n",
       "      <td id=\"T_eae5b_row3_col1\" class=\"data row3 col1\" >227545.015267</td>\n",
       "      <td id=\"T_eae5b_row3_col2\" class=\"data row3 col2\" >308388.534351</td>\n",
       "    </tr>\n",
       "  </tbody>\n",
       "</table>\n"
      ],
      "text/plain": [
       "<pandas.io.formats.style.Styler at 0x13bc07070>"
      ]
     },
     "execution_count": 13,
     "metadata": {},
     "output_type": "execute_result"
    }
   ],
   "source": [
    "comparison = comparator.Comparator(\n",
    "    dict_imputers,\n",
    "    cols_to_impute,\n",
    "    generator_holes = generator_holes,\n",
    "    metrics=metrics,\n",
    "    max_evals=2,\n",
    ")\n",
    "results = comparison.compare(df)\n",
    "results.style.highlight_min(color=\"lightgreen\", axis=1)"
   ]
  },
  {
   "cell_type": "code",
   "execution_count": null,
   "id": "8433d735",
   "metadata": {},
   "outputs": [],
   "source": []
  }
 ],
 "metadata": {
  "kernelspec": {
   "display_name": "env_qolmat_dev",
   "language": "python",
   "name": "env_qolmat_dev"
  },
  "language_info": {
   "codemirror_mode": {
    "name": "ipython",
    "version": 3
   },
   "file_extension": ".py",
   "mimetype": "text/x-python",
   "name": "python",
   "nbconvert_exporter": "python",
   "pygments_lexer": "ipython3",
   "version": "3.8.18"
  }
 },
 "nbformat": 4,
 "nbformat_minor": 5
}
