{
 "cells": [
  {
   "cell_type": "code",
   "execution_count": 1,
   "id": "ff229ce1",
   "metadata": {},
   "outputs": [],
   "source": [
    "%load_ext autoreload\n",
    "%autoreload 2"
   ]
  },
  {
   "cell_type": "code",
   "execution_count": 2,
   "id": "9285cdfc",
   "metadata": {},
   "outputs": [
    {
     "name": "stderr",
     "output_type": "stream",
     "text": [
      "OMP: Info #276: omp_set_nested routine deprecated, please use omp_set_max_active_levels instead.\n"
     ]
    }
   ],
   "source": [
    "import matplotlib.pyplot as plt\n",
    "import numpy as np\n",
    "import pandas as pd\n",
    "\n",
    "from qolmat.imputations import preprocessing, imputers\n",
    "from qolmat.imputations.imputers import ImputerRegressor\n",
    "from qolmat.benchmark import missing_patterns\n",
    "from qolmat.benchmark import comparator\n",
    "from qolmat.utils import data\n",
    "\n",
    "from sklearn.preprocessing import StandardScaler\n",
    "from sklearn.pipeline import Pipeline\n",
    "from sklearn.compose import ColumnTransformer\n",
    "\n",
    "from sklearn.compose import make_column_selector as selector"
   ]
  },
  {
   "cell_type": "code",
   "execution_count": 3,
   "id": "dd68b9f2",
   "metadata": {},
   "outputs": [],
   "source": [
    "df = data.get_data(\"Titanic\")"
   ]
  },
  {
   "cell_type": "code",
   "execution_count": 4,
   "id": "c17b8877",
   "metadata": {},
   "outputs": [],
   "source": [
    "cols_num = df.select_dtypes(include=\"number\").columns\n",
    "cols_cat = df.select_dtypes(exclude=\"number\").columns"
   ]
  },
  {
   "cell_type": "code",
   "execution_count": 5,
   "id": "f677bbea",
   "metadata": {},
   "outputs": [],
   "source": [
    "imputer_rpca = imputers.ImputerRpcaNoisy()\n",
    "ohe = preprocessing.OneHotEncoderProjector(handle_unknown=\"ignore\", handle_missing=\"return_nan\", use_cat_names=True, cols=cols_cat)\n",
    "bt = preprocessing.BinTransformer(cols=cols_num)\n",
    "wrapper = Pipeline(steps=[(\"OneHotEncoder\", ohe), (\"BinTransformer\", bt)])\n",
    "\n",
    "imputer_wrap_rpca = preprocessing.WrapperTransformer(imputer_rpca, wrapper)"
   ]
  },
  {
   "cell_type": "code",
   "execution_count": 8,
   "id": "bc213420",
   "metadata": {},
   "outputs": [],
   "source": [
    "pipestimator = preprocessing.make_robust_MixteHGB(allow_new=False)\n",
    "imputer_hgb = ImputerRegressor(estimator=pipestimator, handler_nan=\"none\")\n",
    "imputer_wrap_hgb = preprocessing.WrapperTransformer(imputer_hgb, bt)"
   ]
  },
  {
   "cell_type": "code",
   "execution_count": 9,
   "id": "e1e3c915",
   "metadata": {},
   "outputs": [],
   "source": [
    "imputer_simple = imputers.ImputerSimple()"
   ]
  },
  {
   "cell_type": "code",
   "execution_count": 21,
   "id": "9e67b2cf",
   "metadata": {},
   "outputs": [],
   "source": [
    "dict_imputers = {\"Simple\": imputer_simple, \"HGB\": imputer_wrap_hgb, \"RPCA\": imputer_wrap_rpca}\n",
    "cols_to_impute = df.columns\n",
    "ratio_masked = .1\n",
    "generator_holes = missing_patterns.UniformHoleGenerator(n_splits=2, subset=cols_to_impute, ratio_masked=ratio_masked, sample_proportional=False)\n",
    "metrics = [\"rmse\", \"accuracy\"]"
   ]
  },
  {
   "cell_type": "code",
   "execution_count": 22,
   "id": "ee189152",
   "metadata": {},
   "outputs": [
    {
     "name": "stdout",
     "output_type": "stream",
     "text": [
      "Testing model: Simple...done.\n",
      "Testing model: HGB...done.\n",
      "Testing model: RPCA...done.\n"
     ]
    }
   ],
   "source": [
    "comparison = comparator.Comparator(\n",
    "    dict_imputers,\n",
    "    cols_to_impute,\n",
    "    generator_holes = generator_holes,\n",
    "    metrics=metrics,\n",
    "    max_evals=2,\n",
    ")\n",
    "results = comparison.compare(df)"
   ]
  },
  {
   "cell_type": "code",
   "execution_count": 23,
   "id": "2d20c0d5",
   "metadata": {},
   "outputs": [
    {
     "data": {
      "text/html": [
       "<style type=\"text/css\">\n",
       "#T_20684_row0_col1, #T_20684_row1_col1, #T_20684_row2_col1, #T_20684_row3_col0 {\n",
       "  background-color: lightgreen;\n",
       "}\n",
       "</style>\n",
       "<table id=\"T_20684\">\n",
       "  <thead>\n",
       "    <tr>\n",
       "      <th class=\"blank level0\" >&nbsp;</th>\n",
       "      <th id=\"T_20684_level0_col0\" class=\"col_heading level0 col0\" >Simple</th>\n",
       "      <th id=\"T_20684_level0_col1\" class=\"col_heading level0 col1\" >HGB</th>\n",
       "      <th id=\"T_20684_level0_col2\" class=\"col_heading level0 col2\" >RPCA</th>\n",
       "    </tr>\n",
       "  </thead>\n",
       "  <tbody>\n",
       "    <tr>\n",
       "      <th id=\"T_20684_level0_row0\" class=\"row_heading level0 row0\" >age</th>\n",
       "      <td id=\"T_20684_row0_col0\" class=\"data row0 col0\" >13.722175</td>\n",
       "      <td id=\"T_20684_row0_col1\" class=\"data row0 col1\" >12.380136</td>\n",
       "      <td id=\"T_20684_row0_col2\" class=\"data row0 col2\" >14.044074</td>\n",
       "    </tr>\n",
       "    <tr>\n",
       "      <th id=\"T_20684_level0_row1\" class=\"row_heading level0 row1\" >sibsp</th>\n",
       "      <td id=\"T_20684_row1_col0\" class=\"data row1 col0\" >1.207312</td>\n",
       "      <td id=\"T_20684_row1_col1\" class=\"data row1 col1\" >0.574931</td>\n",
       "      <td id=\"T_20684_row1_col2\" class=\"data row1 col2\" >0.895884</td>\n",
       "    </tr>\n",
       "    <tr>\n",
       "      <th id=\"T_20684_level0_row2\" class=\"row_heading level0 row2\" >parch</th>\n",
       "      <td id=\"T_20684_row2_col0\" class=\"data row2 col0\" >0.933767</td>\n",
       "      <td id=\"T_20684_row2_col1\" class=\"data row2 col1\" >0.807345</td>\n",
       "      <td id=\"T_20684_row2_col2\" class=\"data row2 col2\" >0.839930</td>\n",
       "    </tr>\n",
       "    <tr>\n",
       "      <th id=\"T_20684_level0_row3\" class=\"row_heading level0 row3\" >fare</th>\n",
       "      <td id=\"T_20684_row3_col0\" class=\"data row3 col0\" >434352.730672</td>\n",
       "      <td id=\"T_20684_row3_col1\" class=\"data row3 col1\" >504720.500563</td>\n",
       "      <td id=\"T_20684_row3_col2\" class=\"data row3 col2\" >507609.769959</td>\n",
       "    </tr>\n",
       "  </tbody>\n",
       "</table>\n"
      ],
      "text/plain": [
       "<pandas.io.formats.style.Styler at 0x1462bb550>"
      ]
     },
     "metadata": {},
     "output_type": "display_data"
    }
   ],
   "source": [
    "display(results.loc[\"rmse\"].style.highlight_min(color=\"lightgreen\", axis=1))"
   ]
  },
  {
   "cell_type": "code",
   "execution_count": 24,
   "id": "8e1aae70",
   "metadata": {},
   "outputs": [
    {
     "data": {
      "text/html": [
       "<style type=\"text/css\">\n",
       "#T_be3ab_row0_col0, #T_be3ab_row1_col1, #T_be3ab_row2_col1, #T_be3ab_row3_col0, #T_be3ab_row4_col0, #T_be3ab_row4_col1, #T_be3ab_row5_col1 {\n",
       "  background-color: lightgreen;\n",
       "}\n",
       "</style>\n",
       "<table id=\"T_be3ab\">\n",
       "  <thead>\n",
       "    <tr>\n",
       "      <th class=\"blank level0\" >&nbsp;</th>\n",
       "      <th id=\"T_be3ab_level0_col0\" class=\"col_heading level0 col0\" >Simple</th>\n",
       "      <th id=\"T_be3ab_level0_col1\" class=\"col_heading level0 col1\" >HGB</th>\n",
       "      <th id=\"T_be3ab_level0_col2\" class=\"col_heading level0 col2\" >RPCA</th>\n",
       "    </tr>\n",
       "  </thead>\n",
       "  <tbody>\n",
       "    <tr>\n",
       "      <th id=\"T_be3ab_level0_row0\" class=\"row_heading level0 row0\" >sex</th>\n",
       "      <td id=\"T_be3ab_row0_col0\" class=\"data row0 col0\" >0.667939</td>\n",
       "      <td id=\"T_be3ab_row0_col1\" class=\"data row0 col1\" >0.664122</td>\n",
       "      <td id=\"T_be3ab_row0_col2\" class=\"data row0 col2\" >0.664122</td>\n",
       "    </tr>\n",
       "    <tr>\n",
       "      <th id=\"T_be3ab_level0_row1\" class=\"row_heading level0 row1\" >age</th>\n",
       "      <td id=\"T_be3ab_row1_col0\" class=\"data row1 col0\" >0.022901</td>\n",
       "      <td id=\"T_be3ab_row1_col1\" class=\"data row1 col1\" >0.038168</td>\n",
       "      <td id=\"T_be3ab_row1_col2\" class=\"data row1 col2\" >0.030534</td>\n",
       "    </tr>\n",
       "    <tr>\n",
       "      <th id=\"T_be3ab_level0_row2\" class=\"row_heading level0 row2\" >sibsp</th>\n",
       "      <td id=\"T_be3ab_row2_col0\" class=\"data row2 col0\" >0.671756</td>\n",
       "      <td id=\"T_be3ab_row2_col1\" class=\"data row2 col1\" >0.763359</td>\n",
       "      <td id=\"T_be3ab_row2_col2\" class=\"data row2 col2\" >0.671756</td>\n",
       "    </tr>\n",
       "    <tr>\n",
       "      <th id=\"T_be3ab_level0_row3\" class=\"row_heading level0 row3\" >parch</th>\n",
       "      <td id=\"T_be3ab_row3_col0\" class=\"data row3 col0\" >0.774809</td>\n",
       "      <td id=\"T_be3ab_row3_col1\" class=\"data row3 col1\" >0.751908</td>\n",
       "      <td id=\"T_be3ab_row3_col2\" class=\"data row3 col2\" >0.751908</td>\n",
       "    </tr>\n",
       "    <tr>\n",
       "      <th id=\"T_be3ab_level0_row4\" class=\"row_heading level0 row4\" >fare</th>\n",
       "      <td id=\"T_be3ab_row4_col0\" class=\"data row4 col0\" >0.007634</td>\n",
       "      <td id=\"T_be3ab_row4_col1\" class=\"data row4 col1\" >0.007634</td>\n",
       "      <td id=\"T_be3ab_row4_col2\" class=\"data row4 col2\" >0.003817</td>\n",
       "    </tr>\n",
       "    <tr>\n",
       "      <th id=\"T_be3ab_level0_row5\" class=\"row_heading level0 row5\" >embarked</th>\n",
       "      <td id=\"T_be3ab_row5_col0\" class=\"data row5 col0\" >0.698473</td>\n",
       "      <td id=\"T_be3ab_row5_col1\" class=\"data row5 col1\" >0.809160</td>\n",
       "      <td id=\"T_be3ab_row5_col2\" class=\"data row5 col2\" >0.687023</td>\n",
       "    </tr>\n",
       "  </tbody>\n",
       "</table>\n"
      ],
      "text/plain": [
       "<pandas.io.formats.style.Styler at 0x150807160>"
      ]
     },
     "metadata": {},
     "output_type": "display_data"
    }
   ],
   "source": [
    "display(results.loc[\"accuracy\"].style.highlight_max(color=\"lightgreen\", axis=1))"
   ]
  },
  {
   "cell_type": "markdown",
   "id": "e628c2cd",
   "metadata": {},
   "source": [
    "# Imputation analysis"
   ]
  },
  {
   "cell_type": "code",
   "execution_count": 14,
   "id": "00bb4e56",
   "metadata": {},
   "outputs": [],
   "source": [
    "mask = generator_holes.generate_mask(df)\n",
    "df_corr = df.where(~mask, np.nan)\n",
    "df_imp = imputer_wrap_hgb.fit_transform(df_corr)"
   ]
  },
  {
   "cell_type": "code",
   "execution_count": 15,
   "id": "093934f4",
   "metadata": {},
   "outputs": [],
   "source": [
    "ages = df[mask][\"age\"]\n",
    "ages_imp = df_imp[mask][\"age\"]"
   ]
  },
  {
   "cell_type": "code",
   "execution_count": 16,
   "id": "6b15bb22",
   "metadata": {},
   "outputs": [],
   "source": [
    "mesh = np.arange(ages.max() + 1)\n",
    "counts = ages.value_counts().reindex(mesh, fill_value=0)\n",
    "counts_imp = ages_imp.value_counts().reindex(mesh, fill_value=0)"
   ]
  },
  {
   "cell_type": "code",
   "execution_count": 17,
   "id": "6641978f",
   "metadata": {},
   "outputs": [
    {
     "data": {
      "text/html": [
       "<div>\n",
       "<style scoped>\n",
       "    .dataframe tbody tr th:only-of-type {\n",
       "        vertical-align: middle;\n",
       "    }\n",
       "\n",
       "    .dataframe tbody tr th {\n",
       "        vertical-align: top;\n",
       "    }\n",
       "\n",
       "    .dataframe thead th {\n",
       "        text-align: right;\n",
       "    }\n",
       "</style>\n",
       "<table border=\"1\" class=\"dataframe\">\n",
       "  <thead>\n",
       "    <tr style=\"text-align: right;\">\n",
       "      <th></th>\n",
       "      <th>count</th>\n",
       "      <th>count</th>\n",
       "    </tr>\n",
       "    <tr>\n",
       "      <th>age</th>\n",
       "      <th></th>\n",
       "      <th></th>\n",
       "    </tr>\n",
       "  </thead>\n",
       "  <tbody>\n",
       "    <tr>\n",
       "      <th>0.0</th>\n",
       "      <td>0</td>\n",
       "      <td>0</td>\n",
       "    </tr>\n",
       "    <tr>\n",
       "      <th>1.0</th>\n",
       "      <td>1</td>\n",
       "      <td>0</td>\n",
       "    </tr>\n",
       "    <tr>\n",
       "      <th>2.0</th>\n",
       "      <td>2</td>\n",
       "      <td>0</td>\n",
       "    </tr>\n",
       "    <tr>\n",
       "      <th>3.0</th>\n",
       "      <td>1</td>\n",
       "      <td>0</td>\n",
       "    </tr>\n",
       "    <tr>\n",
       "      <th>4.0</th>\n",
       "      <td>0</td>\n",
       "      <td>1</td>\n",
       "    </tr>\n",
       "    <tr>\n",
       "      <th>...</th>\n",
       "      <td>...</td>\n",
       "      <td>...</td>\n",
       "    </tr>\n",
       "    <tr>\n",
       "      <th>58.0</th>\n",
       "      <td>0</td>\n",
       "      <td>0</td>\n",
       "    </tr>\n",
       "    <tr>\n",
       "      <th>59.0</th>\n",
       "      <td>0</td>\n",
       "      <td>0</td>\n",
       "    </tr>\n",
       "    <tr>\n",
       "      <th>60.0</th>\n",
       "      <td>2</td>\n",
       "      <td>0</td>\n",
       "    </tr>\n",
       "    <tr>\n",
       "      <th>61.0</th>\n",
       "      <td>0</td>\n",
       "      <td>0</td>\n",
       "    </tr>\n",
       "    <tr>\n",
       "      <th>62.0</th>\n",
       "      <td>1</td>\n",
       "      <td>0</td>\n",
       "    </tr>\n",
       "  </tbody>\n",
       "</table>\n",
       "<p>63 rows × 2 columns</p>\n",
       "</div>"
      ],
      "text/plain": [
       "      count  count\n",
       "age               \n",
       "0.0       0      0\n",
       "1.0       1      0\n",
       "2.0       2      0\n",
       "3.0       1      0\n",
       "4.0       0      1\n",
       "...     ...    ...\n",
       "58.0      0      0\n",
       "59.0      0      0\n",
       "60.0      2      0\n",
       "61.0      0      0\n",
       "62.0      1      0\n",
       "\n",
       "[63 rows x 2 columns]"
      ]
     },
     "execution_count": 17,
     "metadata": {},
     "output_type": "execute_result"
    }
   ],
   "source": [
    "pd.concat([counts, counts_imp], axis=1)"
   ]
  },
  {
   "cell_type": "code",
   "execution_count": 18,
   "id": "363598e0",
   "metadata": {},
   "outputs": [
    {
     "data": {
      "text/plain": [
       "[<matplotlib.lines.Line2D at 0x150602df0>]"
      ]
     },
     "execution_count": 18,
     "metadata": {},
     "output_type": "execute_result"
    },
    {
     "data": {
      "image/png": "[encoded data removed]",
      "text/plain": [
       "<Figure size 640x480 with 1 Axes>"
      ]
     },
     "metadata": {},
     "output_type": "display_data"
    }
   ],
   "source": [
    "plt.plot(counts.rolling(5).mean())\n",
    "plt.plot(counts_imp.rolling(5).mean())"
   ]
  },
  {
   "cell_type": "code",
   "execution_count": 19,
   "id": "6720ec95",
   "metadata": {},
   "outputs": [
    {
     "data": {
      "text/plain": [
       "<matplotlib.image.AxesImage at 0x1506d8c10>"
      ]
     },
     "execution_count": 19,
     "metadata": {},
     "output_type": "execute_result"
    },
    {
     "data": {
      "image/png": "[encoded data removed]",
      "text/plain": [
       "<Figure size 640x480 with 1 Axes>"
      ]
     },
     "metadata": {},
     "output_type": "display_data"
    }
   ],
   "source": [
    "plt.imshow(counts.to_frame() @ counts_imp.to_frame().T, cmap=\"gray\")"
   ]
  },
  {
   "cell_type": "code",
   "execution_count": 20,
   "id": "7911314e",
   "metadata": {},
   "outputs": [
    {
     "ename": "KeyError",
     "evalue": "'date'",
     "output_type": "error",
     "traceback": [
      "\u001b[0;31m---------------------------------------------------------------------------\u001b[0m",
      "\u001b[0;31mKeyError\u001b[0m                                  Traceback (most recent call last)",
      "File \u001b[0;32m~/miniconda3/envs/env_qolmat_dev/lib/python3.8/site-packages/pandas/core/indexes/base.py:3652\u001b[0m, in \u001b[0;36mIndex.get_loc\u001b[0;34m(self, key)\u001b[0m\n\u001b[1;32m   3651\u001b[0m \u001b[38;5;28;01mtry\u001b[39;00m:\n\u001b[0;32m-> 3652\u001b[0m     \u001b[38;5;28;01mreturn\u001b[39;00m \u001b[38;5;28;43mself\u001b[39;49m\u001b[38;5;241;43m.\u001b[39;49m\u001b[43m_engine\u001b[49m\u001b[38;5;241;43m.\u001b[39;49m\u001b[43mget_loc\u001b[49m\u001b[43m(\u001b[49m\u001b[43mcasted_key\u001b[49m\u001b[43m)\u001b[49m\n\u001b[1;32m   3653\u001b[0m \u001b[38;5;28;01mexcept\u001b[39;00m \u001b[38;5;167;01mKeyError\u001b[39;00m \u001b[38;5;28;01mas\u001b[39;00m err:\n",
      "File \u001b[0;32m~/miniconda3/envs/env_qolmat_dev/lib/python3.8/site-packages/pandas/_libs/index.pyx:147\u001b[0m, in \u001b[0;36mpandas._libs.index.IndexEngine.get_loc\u001b[0;34m()\u001b[0m\n",
      "File \u001b[0;32m~/miniconda3/envs/env_qolmat_dev/lib/python3.8/site-packages/pandas/_libs/index.pyx:176\u001b[0m, in \u001b[0;36mpandas._libs.index.IndexEngine.get_loc\u001b[0;34m()\u001b[0m\n",
      "File \u001b[0;32mpandas/_libs/hashtable_class_helper.pxi:7080\u001b[0m, in \u001b[0;36mpandas._libs.hashtable.PyObjectHashTable.get_item\u001b[0;34m()\u001b[0m\n",
      "File \u001b[0;32mpandas/_libs/hashtable_class_helper.pxi:7088\u001b[0m, in \u001b[0;36mpandas._libs.hashtable.PyObjectHashTable.get_item\u001b[0;34m()\u001b[0m\n",
      "\u001b[0;31mKeyError\u001b[0m: 'date'",
      "\nThe above exception was the direct cause of the following exception:\n",
      "\u001b[0;31mKeyError\u001b[0m                                  Traceback (most recent call last)",
      "Cell \u001b[0;32mIn[20], line 1\u001b[0m\n\u001b[0;32m----> 1\u001b[0m \u001b[43mdata\u001b[49m\u001b[38;5;241;43m.\u001b[39;49m\u001b[43mget_data\u001b[49m\u001b[43m(\u001b[49m\u001b[38;5;124;43m\"\u001b[39;49m\u001b[38;5;124;43mBeijing\u001b[39;49m\u001b[38;5;124;43m\"\u001b[39;49m\u001b[43m)\u001b[49m\n",
      "File \u001b[0;32m~/Projets/RD/qolmat/qolmat/utils/data.py:106\u001b[0m, in \u001b[0;36mget_data\u001b[0;34m(name_data, datapath, n_groups_max)\u001b[0m\n\u001b[1;32m    104\u001b[0m \u001b[38;5;28;01mif\u001b[39;00m name_data \u001b[38;5;241m==\u001b[39m \u001b[38;5;124m\"\u001b[39m\u001b[38;5;124mBeijing\u001b[39m\u001b[38;5;124m\"\u001b[39m:\n\u001b[1;32m    105\u001b[0m     df \u001b[38;5;241m=\u001b[39m read_csv_local(\u001b[38;5;124m\"\u001b[39m\u001b[38;5;124mbeijing\u001b[39m\u001b[38;5;124m\"\u001b[39m, sep\u001b[38;5;241m=\u001b[39m\u001b[38;5;124m\"\u001b[39m\u001b[38;5;124m;\u001b[39m\u001b[38;5;124m\"\u001b[39m)\n\u001b[0;32m--> 106\u001b[0m     df[\u001b[38;5;124m\"\u001b[39m\u001b[38;5;124mdate\u001b[39m\u001b[38;5;124m\"\u001b[39m] \u001b[38;5;241m=\u001b[39m pd\u001b[38;5;241m.\u001b[39mto_datetime(\u001b[43mdf\u001b[49m\u001b[43m[\u001b[49m\u001b[38;5;124;43m\"\u001b[39;49m\u001b[38;5;124;43mdate\u001b[39;49m\u001b[38;5;124;43m\"\u001b[39;49m\u001b[43m]\u001b[49m)\n\u001b[1;32m    108\u001b[0m     \u001b[38;5;66;03m# df[\"date\"] = pd.to_datetime(\u001b[39;00m\n\u001b[1;32m    109\u001b[0m     \u001b[38;5;66;03m#     {\u001b[39;00m\n\u001b[1;32m    110\u001b[0m     \u001b[38;5;66;03m#         \"year\": df[\"year\"],\u001b[39;00m\n\u001b[0;32m   (...)\u001b[0m\n\u001b[1;32m    114\u001b[0m     \u001b[38;5;66;03m#     }\u001b[39;00m\n\u001b[1;32m    115\u001b[0m     \u001b[38;5;66;03m# )\u001b[39;00m\n\u001b[1;32m    116\u001b[0m     df \u001b[38;5;241m=\u001b[39m df\u001b[38;5;241m.\u001b[39mdrop(columns\u001b[38;5;241m=\u001b[39m[\u001b[38;5;124m\"\u001b[39m\u001b[38;5;124myear\u001b[39m\u001b[38;5;124m\"\u001b[39m, \u001b[38;5;124m\"\u001b[39m\u001b[38;5;124mmonth\u001b[39m\u001b[38;5;124m\"\u001b[39m, \u001b[38;5;124m\"\u001b[39m\u001b[38;5;124mday\u001b[39m\u001b[38;5;124m\"\u001b[39m, \u001b[38;5;124m\"\u001b[39m\u001b[38;5;124mhour\u001b[39m\u001b[38;5;124m\"\u001b[39m, \u001b[38;5;124m\"\u001b[39m\u001b[38;5;124mwd\u001b[39m\u001b[38;5;124m\"\u001b[39m])\n",
      "File \u001b[0;32m~/miniconda3/envs/env_qolmat_dev/lib/python3.8/site-packages/pandas/core/frame.py:3761\u001b[0m, in \u001b[0;36mDataFrame.__getitem__\u001b[0;34m(self, key)\u001b[0m\n\u001b[1;32m   3759\u001b[0m \u001b[38;5;28;01mif\u001b[39;00m \u001b[38;5;28mself\u001b[39m\u001b[38;5;241m.\u001b[39mcolumns\u001b[38;5;241m.\u001b[39mnlevels \u001b[38;5;241m>\u001b[39m \u001b[38;5;241m1\u001b[39m:\n\u001b[1;32m   3760\u001b[0m     \u001b[38;5;28;01mreturn\u001b[39;00m \u001b[38;5;28mself\u001b[39m\u001b[38;5;241m.\u001b[39m_getitem_multilevel(key)\n\u001b[0;32m-> 3761\u001b[0m indexer \u001b[38;5;241m=\u001b[39m \u001b[38;5;28;43mself\u001b[39;49m\u001b[38;5;241;43m.\u001b[39;49m\u001b[43mcolumns\u001b[49m\u001b[38;5;241;43m.\u001b[39;49m\u001b[43mget_loc\u001b[49m\u001b[43m(\u001b[49m\u001b[43mkey\u001b[49m\u001b[43m)\u001b[49m\n\u001b[1;32m   3762\u001b[0m \u001b[38;5;28;01mif\u001b[39;00m is_integer(indexer):\n\u001b[1;32m   3763\u001b[0m     indexer \u001b[38;5;241m=\u001b[39m [indexer]\n",
      "File \u001b[0;32m~/miniconda3/envs/env_qolmat_dev/lib/python3.8/site-packages/pandas/core/indexes/base.py:3654\u001b[0m, in \u001b[0;36mIndex.get_loc\u001b[0;34m(self, key)\u001b[0m\n\u001b[1;32m   3652\u001b[0m     \u001b[38;5;28;01mreturn\u001b[39;00m \u001b[38;5;28mself\u001b[39m\u001b[38;5;241m.\u001b[39m_engine\u001b[38;5;241m.\u001b[39mget_loc(casted_key)\n\u001b[1;32m   3653\u001b[0m \u001b[38;5;28;01mexcept\u001b[39;00m \u001b[38;5;167;01mKeyError\u001b[39;00m \u001b[38;5;28;01mas\u001b[39;00m err:\n\u001b[0;32m-> 3654\u001b[0m     \u001b[38;5;28;01mraise\u001b[39;00m \u001b[38;5;167;01mKeyError\u001b[39;00m(key) \u001b[38;5;28;01mfrom\u001b[39;00m \u001b[38;5;21;01merr\u001b[39;00m\n\u001b[1;32m   3655\u001b[0m \u001b[38;5;28;01mexcept\u001b[39;00m \u001b[38;5;167;01mTypeError\u001b[39;00m:\n\u001b[1;32m   3656\u001b[0m     \u001b[38;5;66;03m# If we have a listlike key, _check_indexing_error will raise\u001b[39;00m\n\u001b[1;32m   3657\u001b[0m     \u001b[38;5;66;03m#  InvalidIndexError. Otherwise we fall through and re-raise\u001b[39;00m\n\u001b[1;32m   3658\u001b[0m     \u001b[38;5;66;03m#  the TypeError.\u001b[39;00m\n\u001b[1;32m   3659\u001b[0m     \u001b[38;5;28mself\u001b[39m\u001b[38;5;241m.\u001b[39m_check_indexing_error(key)\n",
      "\u001b[0;31mKeyError\u001b[0m: 'date'"
     ]
    }
   ],
   "source": [
    "data.get_data(\"Beijing\")"
   ]
  },
  {
   "cell_type": "code",
   "execution_count": null,
   "id": "c08554cb",
   "metadata": {},
   "outputs": [],
   "source": []
  }
 ],
 "metadata": {
  "kernelspec": {
   "display_name": "env_qolmat_dev",
   "language": "python",
   "name": "env_qolmat_dev"
  },
  "language_info": {
   "codemirror_mode": {
    "name": "ipython",
    "version": 3
   },
   "file_extension": ".py",
   "mimetype": "text/x-python",
   "name": "python",
   "nbconvert_exporter": "python",
   "pygments_lexer": "ipython3",
   "version": "3.8.18"
  }
 },
 "nbformat": 4,
 "nbformat_minor": 5
}
