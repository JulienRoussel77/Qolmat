{
 "cells": [
  {
   "cell_type": "code",
   "execution_count": 1,
   "id": "60d4d82a",
   "metadata": {},
   "outputs": [],
   "source": [
    "import time\n",
    "\n",
    "import pandas as pd\n",
    "import numpy as np\n",
    "from scipy.stats import norm\n",
    "\n",
    "from qolmat.analysis.pklm_numpy import PKLMtest\n",
    "from qolmat.benchmark.missing_patterns import UniformHoleGenerator"
   ]
  },
  {
   "cell_type": "code",
   "execution_count": 2,
   "id": "dae46fac",
   "metadata": {},
   "outputs": [],
   "source": [
    "nb_rows = 500\n",
    "nb_col = 2\n",
    "\n",
    "# Création du DataFrame avec des données aléatoires\n",
    "data = {f\"Colonne_{i}\": np.random.randint(0, 100, nb_rows).astype(float) for i in range(nb_col)}\n",
    "\n",
    "df = pd.DataFrame(data)\n",
    "\n",
    "# Introduction de valeurs manquantes\n",
    "nb_valeurs_manquantes = int(0.1 * df.size)\n",
    "indices_valeurs_manquantes = np.random.choice(df.size, nb_valeurs_manquantes, replace=False)\n",
    "df.values.flat[indices_valeurs_manquantes] = np.nan"
   ]
  },
  {
   "cell_type": "code",
   "execution_count": 3,
   "id": "add632d6",
   "metadata": {},
   "outputs": [
    {
     "name": "stdout",
     "output_type": "stream",
     "text": [
      "--- 3.6945717334747314 seconds ---\n",
      "The p-value of the PKLM test is 0.7741935483870968\n"
     ]
    }
   ],
   "source": [
    "start_time = time.time()\n",
    "\n",
    "p_val = PKLMtest(df.to_numpy())\n",
    "\n",
    "print(\"--- %s seconds ---\" % (time.time() - start_time))\n",
    "print(f\"The p-value of the PKLM test is {p_val}\")"
   ]
  },
  {
   "cell_type": "code",
   "execution_count": 5,
   "id": "9d573dc8",
   "metadata": {},
   "outputs": [],
   "source": [
    "# Case 2"
   ]
  },
  {
   "cell_type": "code",
   "execution_count": 4,
   "id": "7e02cf5f",
   "metadata": {},
   "outputs": [],
   "source": [
    "rng = np.random.RandomState(42)\n",
    "data = rng.multivariate_normal(mean=[0, 0], cov=[[1, 0], [0, 1]], size=200)\n",
    "df = pd.DataFrame(data=data, columns=[\"Column 1\", \"Column 2\"])\n",
    "\n",
    "q975 = norm.ppf(0.975)\n",
    "df_mask = pd.DataFrame({\"Column 1\": False, \"Column 2\": df[\"Column 1\"] > q975}, index=df.index)\n",
    "\n",
    "df_nan = df.where(~df_mask, np.nan)"
   ]
  },
  {
   "cell_type": "code",
   "execution_count": 8,
   "id": "e5ce40bd",
   "metadata": {},
   "outputs": [
    {
     "name": "stdout",
     "output_type": "stream",
     "text": [
      "--- 1.9384348392486572 seconds ---\n",
      "The p-value of the PKLM test is 0.03225806451612903\n"
     ]
    }
   ],
   "source": [
    "start_time = time.time()\n",
    "p_val = PKLMtest(df_nan.to_numpy())\n",
    "print(\"--- %s seconds ---\" % (time.time() - start_time))\n",
    "print(f\"The p-value of the PKLM test is {p_val}\")"
   ]
  },
  {
   "cell_type": "code",
   "execution_count": 6,
   "id": "f2728c9e",
   "metadata": {},
   "outputs": [],
   "source": [
    "# Case 3"
   ]
  },
  {
   "cell_type": "code",
   "execution_count": 7,
   "id": "354a6ab4",
   "metadata": {},
   "outputs": [
    {
     "name": "stdout",
     "output_type": "stream",
     "text": [
      "--- 1.947416067123413 seconds ---\n",
      "The p-value of the PKLM test is 0.03225806451612903\n"
     ]
    }
   ],
   "source": [
    "df_mask = pd.DataFrame(\n",
    "    {\"Column 1\": False, \"Column 2\": df[\"Column 1\"].abs() > q975}, index=df.index\n",
    ")\n",
    "\n",
    "df_nan = df.where(~df_mask, np.nan)\n",
    "start_time = time.time()\n",
    "p_val = PKLMtest(df_nan.to_numpy())\n",
    "print(\"--- %s seconds ---\" % (time.time() - start_time))\n",
    "print(f\"The p-value of the PKLM test is {p_val}\")"
   ]
  }
 ],
 "metadata": {
  "kernelspec": {
   "display_name": "Python 3 (ipykernel)",
   "language": "python",
   "name": "python3"
  },
  "language_info": {
   "codemirror_mode": {
    "name": "ipython",
    "version": 3
   },
   "file_extension": ".py",
   "mimetype": "text/x-python",
   "name": "python",
   "nbconvert_exporter": "python",
   "pygments_lexer": "ipython3",
   "version": "3.8.19"
  }
 },
 "nbformat": 4,
 "nbformat_minor": 5
}
