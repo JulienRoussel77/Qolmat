{
 "cells": [
  {
   "cell_type": "code",
   "execution_count": 1,
   "metadata": {},
   "outputs": [],
   "source": [
    "%reload_ext autoreload\n",
    "%autoreload 2\n",
    "\n",
    "import pandas as pd\n",
    "import numpy as np\n",
    "np.random.seed(42)\n",
    "import pprint\n",
    "import s3fs\n",
    "\n",
    "import sys\n",
    "sys.path.append(\"../../\")\n",
    "from robust_pca.benchmark import cross_validation, comparator\n",
    "from robust_pca.imputations import models"
   ]
  },
  {
   "cell_type": "code",
   "execution_count": 2,
   "metadata": {},
   "outputs": [],
   "source": [
    "path = \"s3://aifluence-data2/data/02_intermediate/chatelet_pdt/H.parq\"\n",
    "df = pd.read_parquet(path, engine=\"pyarrow\")\n",
    "#df = pd.read_parquet(\"../../../data/H.parq\", engine=\"pyarrow\")"
   ]
  },
  {
   "cell_type": "markdown",
   "metadata": {},
   "source": [
    "**data preparation**"
   ]
  },
  {
   "cell_type": "code",
   "execution_count": 3,
   "metadata": {},
   "outputs": [],
   "source": [
    "def nan_rule(df, columns, hours):\n",
    "    \"\"\"replace nan values by zero if \"true\" zero (e.g. no train during this period)\n",
    "    Parameters\n",
    "    ----------\n",
    "    df : pd.DataFrame\n",
    "        \"spatiotemporal\" dataframe\n",
    "    columns : List[str]\n",
    "        list of column names we have to replace nan by zero\n",
    "    hours : List[str]\n",
    "        list of hours for which we know there is no train -> true zeros\n",
    "    \"\"\"\n",
    "    data = df.copy()\n",
    "    data.loc[data.index.get_level_values(\"datetime\").hour.isin(hours), columns] = data.loc[data.index.get_level_values(\"datetime\").hour.isin(hours), columns].fillna(0)\n",
    "    return data\n",
    "\n",
    "\n",
    "data = df.reset_index()\n",
    "#del data[\"datetime\"]\n",
    "#data = data.rename(columns={\"datetime_theo_pdt\":\"datetime\"})\n",
    "data = data.sort_values(by=[\"station\", \"datetime\", \"position\"])\n",
    "data = data.set_index([\"line\",\"station\", \"datetime\", \"direction\"])\n",
    "data = nan_rule(data, [\"load\"], [0, 1, 2, 3])\n",
    "data = data.reset_index()"
   ]
  },
  {
   "cell_type": "markdown",
   "metadata": {},
   "source": [
    "**Comparator**"
   ]
  },
  {
   "cell_type": "code",
   "execution_count": 189,
   "metadata": {},
   "outputs": [
    {
     "name": "stdout",
     "output_type": "stream",
     "text": [
      "277134\n"
     ]
    }
   ],
   "source": [
    "models_to_test = [\n",
    "  models.ImputeByMean([\"datetime.dt.dayofweek\"]), #\"datetime.dt.round('10min')\"\n",
    "  models.ImputeByMedian([\"datetime.dt.dayofweek\"]), \n",
    "  models.RandomImpute(),\n",
    "  models.ImputeLOCF(),\n",
    "  models.ImputeNOCB(),\n",
    "  # models.ImputeKNN(),\n",
    "  models.ImputeRPCA(\n",
    "    method=\"temporal\", \n",
    "    #aggregate_time=\"10min\", \n",
    "    multivariate=False,\n",
    "    **{\"n_rows\":24*12*7, \"maxIter\":10}\n",
    "    ),\n",
    "#   models.ImputeProphet(**{\n",
    "#               \"weekly_seasonality\": True, \n",
    "#               \"yearly_seasonality\": True,\n",
    "#               \"interval_width\": 0.95,\n",
    "#               })\n",
    "# models.ImputeRPCA(),\n",
    "]\n",
    "\n",
    "search_params = {\n",
    "  \"ImputeKNN\": {\"k\": {\"min\":2, \"max\":3, \"type\":\"Integer\"}},\n",
    "  \"ImputeProphet\": {\n",
    "          \"daily_seasonality\": {\"categories\": [True, False], \"type\":\"Categorical\"},\n",
    "        },\n",
    "  \"ImputeRPCA\": {\n",
    "    \"lam\": {\"min\": 0.5, \"max\": 1, \"type\":\"Real\"},\n",
    "    \"tau\": {\"min\": 1, \"max\": 1.5, \"type\":\"Real\"},\n",
    "  }\n",
    "}\n",
    "\n",
    "line = \"H\"\n",
    "station = \"VALMONDOIS\"\n",
    "direction = \"Paris\"\n",
    "dataset = data[(data[\"line\"]==line) & (data[\"station\"]==station) & (data[\"direction\"]==direction)]\n",
    "cols_to_impute = [\"load\"]\n",
    "\n",
    "dataset = data[(data[\"line\"]==line) & (data[\"station\"]==station) & (data[\"direction\"]==direction)][[\"datetime\", \"load\"]]\n",
    "dataset = dataset.set_index(\"datetime\")\n",
    "dataset = dataset.squeeze()\n",
    "#dataset = dataset.resample(\"5min\").agg(pd.Series.sum, skipna=False)\n",
    "dataset = dataset.resample('5min').agg(lambda x: np.nan if np.isnan(x).all() else np.sum(x) )\n",
    "print(dataset.isna().sum())\n",
    "dataset = dataset.to_frame()\n",
    "\n",
    "# dataset = dataset.set_index([\"line\",\"station\", \"datetime\", \"direction\"])\n",
    "# dataset = dataset.set_index([\"datetime\", \"direction\"])\n",
    "# dataset = dataframe with multiindex and at least, columns in cols_to_impute\n",
    "\n",
    "prop_nan = 0.05"
   ]
  },
  {
   "cell_type": "code",
   "execution_count": 190,
   "metadata": {},
   "outputs": [
    {
     "name": "stdout",
     "output_type": "stream",
     "text": [
      "ImputeByMean\n",
      "# nan before imputation: 277134\n",
      "# nan after imputation...: 0\n",
      "ImputeByMedian\n",
      "# nan before imputation: 277134\n",
      "# nan after imputation...: 0\n",
      "RandomImpute\n",
      "# nan before imputation: 277134\n",
      "# nan after imputation...: 0\n",
      "ImputeLOCF\n",
      "# nan before imputation: 277134\n",
      "# nan after imputation...: 0\n",
      "ImputeNOCB\n",
      "# nan before imputation: 277134\n",
      "# nan after imputation...: 0\n",
      "ImputeRPCA\n",
      "# nan before imputation: 277134\n"
     ]
    },
    {
     "name": "stderr",
     "output_type": "stream",
     "text": [
      "/home/ec2-user/miniconda3/envs/env/lib/python3.8/site-packages/numpy/lib/nanfunctions.py:997: RuntimeWarning: All-NaN slice encountered\n",
      "  result = np.apply_along_axis(_nanmedian1d, axis, a, overwrite_input)\n",
      "/home/ec2-user/miniconda3/envs/env/lib/python3.8/site-packages/numpy/lib/nanfunctions.py:997: RuntimeWarning: All-NaN slice encountered\n",
      "  result = np.apply_along_axis(_nanmedian1d, axis, a, overwrite_input)\n",
      "/home/ec2-user/miniconda3/envs/env/lib/python3.8/site-packages/numpy/lib/nanfunctions.py:997: RuntimeWarning: All-NaN slice encountered\n",
      "  result = np.apply_along_axis(_nanmedian1d, axis, a, overwrite_input)\n",
      "/home/ec2-user/miniconda3/envs/env/lib/python3.8/site-packages/numpy/lib/nanfunctions.py:997: RuntimeWarning: All-NaN slice encountered\n",
      "  result = np.apply_along_axis(_nanmedian1d, axis, a, overwrite_input)\n",
      "/home/ec2-user/miniconda3/envs/env/lib/python3.8/site-packages/numpy/lib/nanfunctions.py:997: RuntimeWarning: All-NaN slice encountered\n",
      "  result = np.apply_along_axis(_nanmedian1d, axis, a, overwrite_input)\n",
      "/home/ec2-user/miniconda3/envs/env/lib/python3.8/site-packages/numpy/lib/nanfunctions.py:997: RuntimeWarning: All-NaN slice encountered\n",
      "  result = np.apply_along_axis(_nanmedian1d, axis, a, overwrite_input)\n",
      "/home/ec2-user/miniconda3/envs/env/lib/python3.8/site-packages/numpy/lib/nanfunctions.py:997: RuntimeWarning: All-NaN slice encountered\n",
      "  result = np.apply_along_axis(_nanmedian1d, axis, a, overwrite_input)\n",
      "/home/ec2-user/miniconda3/envs/env/lib/python3.8/site-packages/numpy/lib/nanfunctions.py:997: RuntimeWarning: All-NaN slice encountered\n",
      "  result = np.apply_along_axis(_nanmedian1d, axis, a, overwrite_input)\n",
      "/home/ec2-user/miniconda3/envs/env/lib/python3.8/site-packages/numpy/lib/nanfunctions.py:997: RuntimeWarning: All-NaN slice encountered\n",
      "  result = np.apply_along_axis(_nanmedian1d, axis, a, overwrite_input)\n",
      "/home/ec2-user/miniconda3/envs/env/lib/python3.8/site-packages/numpy/lib/nanfunctions.py:997: RuntimeWarning: All-NaN slice encountered\n",
      "  result = np.apply_along_axis(_nanmedian1d, axis, a, overwrite_input)\n",
      "/home/ec2-user/miniconda3/envs/env/lib/python3.8/site-packages/numpy/lib/nanfunctions.py:997: RuntimeWarning: All-NaN slice encountered\n",
      "  result = np.apply_along_axis(_nanmedian1d, axis, a, overwrite_input)\n",
      "/home/ec2-user/miniconda3/envs/env/lib/python3.8/site-packages/numpy/lib/nanfunctions.py:997: RuntimeWarning: All-NaN slice encountered\n",
      "  result = np.apply_along_axis(_nanmedian1d, axis, a, overwrite_input)\n",
      "/home/ec2-user/miniconda3/envs/env/lib/python3.8/site-packages/numpy/lib/nanfunctions.py:997: RuntimeWarning: All-NaN slice encountered\n",
      "  result = np.apply_along_axis(_nanmedian1d, axis, a, overwrite_input)\n",
      "/home/ec2-user/miniconda3/envs/env/lib/python3.8/site-packages/numpy/lib/nanfunctions.py:997: RuntimeWarning: All-NaN slice encountered\n",
      "  result = np.apply_along_axis(_nanmedian1d, axis, a, overwrite_input)\n",
      "/home/ec2-user/miniconda3/envs/env/lib/python3.8/site-packages/numpy/lib/nanfunctions.py:997: RuntimeWarning: All-NaN slice encountered\n",
      "  result = np.apply_along_axis(_nanmedian1d, axis, a, overwrite_input)\n",
      "/home/ec2-user/miniconda3/envs/env/lib/python3.8/site-packages/numpy/lib/nanfunctions.py:997: RuntimeWarning: All-NaN slice encountered\n",
      "  result = np.apply_along_axis(_nanmedian1d, axis, a, overwrite_input)\n",
      "/home/ec2-user/miniconda3/envs/env/lib/python3.8/site-packages/numpy/lib/nanfunctions.py:997: RuntimeWarning: All-NaN slice encountered\n",
      "  result = np.apply_along_axis(_nanmedian1d, axis, a, overwrite_input)\n",
      "/home/ec2-user/miniconda3/envs/env/lib/python3.8/site-packages/numpy/lib/nanfunctions.py:997: RuntimeWarning: All-NaN slice encountered\n",
      "  result = np.apply_along_axis(_nanmedian1d, axis, a, overwrite_input)\n",
      "/home/ec2-user/miniconda3/envs/env/lib/python3.8/site-packages/numpy/lib/nanfunctions.py:997: RuntimeWarning: All-NaN slice encountered\n",
      "  result = np.apply_along_axis(_nanmedian1d, axis, a, overwrite_input)\n",
      "/home/ec2-user/miniconda3/envs/env/lib/python3.8/site-packages/numpy/lib/nanfunctions.py:997: RuntimeWarning: All-NaN slice encountered\n",
      "  result = np.apply_along_axis(_nanmedian1d, axis, a, overwrite_input)\n",
      "/home/ec2-user/miniconda3/envs/env/lib/python3.8/site-packages/numpy/lib/nanfunctions.py:997: RuntimeWarning: All-NaN slice encountered\n",
      "  result = np.apply_along_axis(_nanmedian1d, axis, a, overwrite_input)\n"
     ]
    },
    {
     "name": "stdout",
     "output_type": "stream",
     "text": [
      "# nan after imputation...: 0\n",
      "{'ImputeByMean': {'mae': 40092.275, 'rmse': 1583.3222, 'wmape': 0.5709},\n",
      " 'ImputeByMedian': {'mae': 38835.0, 'rmse': 1785.6184, 'wmape': 0.5443},\n",
      " 'ImputeLOCF': {'mae': 49505.0, 'rmse': 2006.5276, 'wmape': 0.6972},\n",
      " 'ImputeNOCB': {'mae': 49029.0, 'rmse': 2008.6276, 'wmape': 0.6773},\n",
      " 'ImputeRPCA': {'mae': 73303.0, 'rmse': 2729.3393, 'wmape': 1.0},\n",
      " 'RandomImpute': {'mae': 56980.0, 'rmse': 2371.4574, 'wmape': 0.7823}}\n"
     ]
    }
   ],
   "source": [
    "comparison = comparator.Comparator(\n",
    "          dataset,\n",
    "          prop_nan, \n",
    "          models_to_test, \n",
    "          cols_to_impute,\n",
    "          search_params=search_params,\n",
    ")\n",
    "results = comparison.compare()\n",
    "\n",
    "pp = pprint.PrettyPrinter(depth=4)\n",
    "pp.pprint(results)"
   ]
  },
  {
   "cell_type": "code",
   "execution_count": 186,
   "metadata": {},
   "outputs": [
    {
     "data": {
      "text/html": [
       "<div>\n",
       "<style scoped>\n",
       "    .dataframe tbody tr th:only-of-type {\n",
       "        vertical-align: middle;\n",
       "    }\n",
       "\n",
       "    .dataframe tbody tr th {\n",
       "        vertical-align: top;\n",
       "    }\n",
       "\n",
       "    .dataframe thead th {\n",
       "        text-align: right;\n",
       "    }\n",
       "</style>\n",
       "<table border=\"1\" class=\"dataframe\">\n",
       "  <thead>\n",
       "    <tr style=\"text-align: right;\">\n",
       "      <th></th>\n",
       "      <th>load</th>\n",
       "    </tr>\n",
       "    <tr>\n",
       "      <th>datetime</th>\n",
       "      <th></th>\n",
       "    </tr>\n",
       "  </thead>\n",
       "  <tbody>\n",
       "    <tr>\n",
       "      <th>2019-01-01 04:45:00</th>\n",
       "      <td>25.0</td>\n",
       "    </tr>\n",
       "    <tr>\n",
       "      <th>2019-01-01 04:50:00</th>\n",
       "      <td>NaN</td>\n",
       "    </tr>\n",
       "    <tr>\n",
       "      <th>2019-01-01 04:55:00</th>\n",
       "      <td>NaN</td>\n",
       "    </tr>\n",
       "    <tr>\n",
       "      <th>2019-01-01 05:00:00</th>\n",
       "      <td>NaN</td>\n",
       "    </tr>\n",
       "    <tr>\n",
       "      <th>2019-01-01 05:05:00</th>\n",
       "      <td>NaN</td>\n",
       "    </tr>\n",
       "    <tr>\n",
       "      <th>...</th>\n",
       "      <td>...</td>\n",
       "    </tr>\n",
       "    <tr>\n",
       "      <th>2021-11-06 21:25:00</th>\n",
       "      <td>NaN</td>\n",
       "    </tr>\n",
       "    <tr>\n",
       "      <th>2021-11-06 21:30:00</th>\n",
       "      <td>NaN</td>\n",
       "    </tr>\n",
       "    <tr>\n",
       "      <th>2021-11-06 21:35:00</th>\n",
       "      <td>24.0</td>\n",
       "    </tr>\n",
       "    <tr>\n",
       "      <th>2021-11-06 21:40:00</th>\n",
       "      <td>NaN</td>\n",
       "    </tr>\n",
       "    <tr>\n",
       "      <th>2021-11-06 21:45:00</th>\n",
       "      <td>24.0</td>\n",
       "    </tr>\n",
       "  </tbody>\n",
       "</table>\n",
       "<p>299725 rows × 1 columns</p>\n",
       "</div>"
      ],
      "text/plain": [
       "                     load\n",
       "datetime                 \n",
       "2019-01-01 04:45:00  25.0\n",
       "2019-01-01 04:50:00   NaN\n",
       "2019-01-01 04:55:00   NaN\n",
       "2019-01-01 05:00:00   NaN\n",
       "2019-01-01 05:05:00   NaN\n",
       "...                   ...\n",
       "2021-11-06 21:25:00   NaN\n",
       "2021-11-06 21:30:00   NaN\n",
       "2021-11-06 21:35:00  24.0\n",
       "2021-11-06 21:40:00   NaN\n",
       "2021-11-06 21:45:00  24.0\n",
       "\n",
       "[299725 rows x 1 columns]"
      ]
     },
     "execution_count": 186,
     "metadata": {},
     "output_type": "execute_result"
    }
   ],
   "source": [
    "dataset.to_frame()"
   ]
  },
  {
   "cell_type": "code",
   "execution_count": null,
   "metadata": {},
   "outputs": [],
   "source": []
  }
 ],
 "metadata": {
  "interpreter": {
   "hash": "0585498b77b0aa3c43ebc4f7917148a4a0d08100a06badb4b7a374b623f6ac92"
  },
  "kernelspec": {
   "display_name": "robust_pca",
   "language": "python",
   "name": "python3"
  },
  "language_info": {
   "codemirror_mode": {
    "name": "ipython",
    "version": 3
   },
   "file_extension": ".py",
   "mimetype": "text/x-python",
   "name": "python",
   "nbconvert_exporter": "python",
   "pygments_lexer": "ipython3",
   "version": "3.8.12"
  }
 },
 "nbformat": 4,
 "nbformat_minor": 4
}
