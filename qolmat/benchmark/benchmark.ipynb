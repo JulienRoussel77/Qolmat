{
 "cells": [
  {
   "cell_type": "code",
   "execution_count": 2,
   "metadata": {},
   "outputs": [
    {
     "name": "stdout",
     "output_type": "stream",
     "text": [
      "/home/ec2-user/anaconda3/bin/python\n"
     ]
    }
   ],
   "source": [
    "!which python"
   ]
  },
  {
   "cell_type": "code",
   "execution_count": null,
   "metadata": {},
   "outputs": [],
   "source": [
    "corr( (sa_n - sn_n), (sn_n+1 - sn_n) )"
   ]
  },
  {
   "cell_type": "code",
   "execution_count": 1,
   "metadata": {},
   "outputs": [
    {
     "ename": "ModuleNotFoundError",
     "evalue": "No module named 'numpy.typing'",
     "output_type": "error",
     "traceback": [
      "\u001b[0;31m---------------------------------------------------------------------\u001b[0m",
      "\u001b[0;31mModuleNotFoundError\u001b[0m                 Traceback (most recent call last)",
      "\u001b[0;32m<ipython-input-1-32d58e8b7bc0>\u001b[0m in \u001b[0;36m<module>\u001b[0;34m\u001b[0m\n\u001b[1;32m     11\u001b[0m \u001b[0;31m# sys.path.append(\"../../\")\u001b[0m\u001b[0;34m\u001b[0m\u001b[0;34m\u001b[0m\u001b[0;34m\u001b[0m\u001b[0m\n\u001b[1;32m     12\u001b[0m \u001b[0;32mfrom\u001b[0m \u001b[0mqolmat\u001b[0m\u001b[0;34m.\u001b[0m\u001b[0mbenchmark\u001b[0m \u001b[0;32mimport\u001b[0m \u001b[0mcomparator\u001b[0m\u001b[0;34m\u001b[0m\u001b[0;34m\u001b[0m\u001b[0m\n\u001b[0;32m---> 13\u001b[0;31m \u001b[0;32mfrom\u001b[0m \u001b[0mqolmat\u001b[0m\u001b[0;34m.\u001b[0m\u001b[0mimputations\u001b[0m \u001b[0;32mimport\u001b[0m \u001b[0mmodels\u001b[0m\u001b[0;34m\u001b[0m\u001b[0;34m\u001b[0m\u001b[0m\n\u001b[0m",
      "\u001b[0;32m~/qolmat/qolmat/imputations/models.py\u001b[0m in \u001b[0;36m<module>\u001b[0;34m\u001b[0m\n\u001b[1;32m      8\u001b[0m \u001b[0;32mfrom\u001b[0m \u001b[0msklearn\u001b[0m\u001b[0;34m.\u001b[0m\u001b[0mexperimental\u001b[0m \u001b[0;32mimport\u001b[0m \u001b[0menable_iterative_imputer\u001b[0m\u001b[0;34m\u001b[0m\u001b[0;34m\u001b[0m\u001b[0m\n\u001b[1;32m      9\u001b[0m \u001b[0;32mfrom\u001b[0m \u001b[0msklearn\u001b[0m\u001b[0;34m.\u001b[0m\u001b[0mimpute\u001b[0m \u001b[0;32mimport\u001b[0m \u001b[0mKNNImputer\u001b[0m\u001b[0;34m,\u001b[0m \u001b[0mIterativeImputer\u001b[0m\u001b[0;34m\u001b[0m\u001b[0;34m\u001b[0m\u001b[0m\n\u001b[0;32m---> 10\u001b[0;31m \u001b[0;32mfrom\u001b[0m \u001b[0mqolmat\u001b[0m\u001b[0;34m.\u001b[0m\u001b[0mimputations\u001b[0m\u001b[0;34m.\u001b[0m\u001b[0mrpca\u001b[0m\u001b[0;34m.\u001b[0m\u001b[0mpcp_rpca\u001b[0m \u001b[0;32mimport\u001b[0m \u001b[0mRPCA\u001b[0m\u001b[0;34m\u001b[0m\u001b[0;34m\u001b[0m\u001b[0m\n\u001b[0m\u001b[1;32m     11\u001b[0m \u001b[0;32mfrom\u001b[0m \u001b[0mqolmat\u001b[0m\u001b[0;34m.\u001b[0m\u001b[0mimputations\u001b[0m\u001b[0;34m.\u001b[0m\u001b[0mrpca\u001b[0m\u001b[0;34m.\u001b[0m\u001b[0mtemporal_rpca\u001b[0m \u001b[0;32mimport\u001b[0m \u001b[0mTemporalRPCA\u001b[0m\u001b[0;34m\u001b[0m\u001b[0;34m\u001b[0m\u001b[0m\n\u001b[1;32m     12\u001b[0m \u001b[0;32mfrom\u001b[0m \u001b[0mqolmat\u001b[0m\u001b[0;34m.\u001b[0m\u001b[0mbenchmark\u001b[0m \u001b[0;32mimport\u001b[0m \u001b[0mutils\u001b[0m\u001b[0;34m\u001b[0m\u001b[0;34m\u001b[0m\u001b[0m\n",
      "\u001b[0;32m~/qolmat/qolmat/imputations/rpca/pcp_rpca.py\u001b[0m in \u001b[0;36m<module>\u001b[0;34m\u001b[0m\n\u001b[1;32m      4\u001b[0m \u001b[0;34m\u001b[0m\u001b[0m\n\u001b[1;32m      5\u001b[0m \u001b[0;32mimport\u001b[0m \u001b[0mnumpy\u001b[0m \u001b[0;32mas\u001b[0m \u001b[0mnp\u001b[0m\u001b[0;34m\u001b[0m\u001b[0;34m\u001b[0m\u001b[0m\n\u001b[0;32m----> 6\u001b[0;31m \u001b[0;32mfrom\u001b[0m \u001b[0mnumpy\u001b[0m\u001b[0;34m.\u001b[0m\u001b[0mtyping\u001b[0m \u001b[0;32mimport\u001b[0m \u001b[0mArrayLike\u001b[0m\u001b[0;34m,\u001b[0m \u001b[0mNDArray\u001b[0m\u001b[0;34m\u001b[0m\u001b[0;34m\u001b[0m\u001b[0m\n\u001b[0m\u001b[1;32m      7\u001b[0m \u001b[0;34m\u001b[0m\u001b[0m\n\u001b[1;32m      8\u001b[0m \u001b[0;32mfrom\u001b[0m \u001b[0mqolmat\u001b[0m\u001b[0;34m.\u001b[0m\u001b[0mimputations\u001b[0m\u001b[0;34m.\u001b[0m\u001b[0mrpca\u001b[0m\u001b[0;34m.\u001b[0m\u001b[0mrpca\u001b[0m \u001b[0;32mimport\u001b[0m \u001b[0mRPCA\u001b[0m\u001b[0;34m\u001b[0m\u001b[0;34m\u001b[0m\u001b[0m\n",
      "\u001b[0;31mModuleNotFoundError\u001b[0m: No module named 'numpy.typing'"
     ]
    }
   ],
   "source": [
    "%reload_ext autoreload\n",
    "%autoreload 2\n",
    "\n",
    "import pandas as pd\n",
    "import numpy as np\n",
    "np.random.seed(42)\n",
    "import pprint\n",
    "import s3fs\n",
    "\n",
    "import sys\n",
    "# sys.path.append(\"../../\")\n",
    "from qolmat.benchmark import comparator\n",
    "from qolmat.imputations import models"
   ]
  },
  {
   "cell_type": "code",
   "execution_count": null,
   "metadata": {},
   "outputs": [],
   "source": [
    "path = \"s3://aifluence-data2/data/02_intermediate/chatelet_pdt/H.parq\"\n",
    "df = pd.read_parquet(path, engine=\"pyarrow\")"
   ]
  },
  {
   "cell_type": "markdown",
   "metadata": {},
   "source": [
    "**data preparation**"
   ]
  },
  {
   "cell_type": "code",
   "execution_count": null,
   "metadata": {},
   "outputs": [],
   "source": [
    "def nan_rule(df, columns, hours):\n",
    "    \"\"\"replace nan values by zero if \"true\" zero (e.g. no train during this period)\n",
    "    Parameters\n",
    "    ----------\n",
    "    df : pd.DataFrame\n",
    "        \"spatiotemporal\" dataframe\n",
    "    columns : List[str]\n",
    "        list of column names we have to replace nan by zero\n",
    "    hours : List[str]\n",
    "        list of hours for which we know there is no train -> true zeros\n",
    "    \"\"\"\n",
    "    data = df.copy()\n",
    "    data.loc[data.index.get_level_values(\"datetime\").hour.isin(hours), columns] = data.loc[data.index.get_level_values(\"datetime\").hour.isin(hours), columns].fillna(0)\n",
    "    return data\n",
    "\n",
    "\n",
    "data = df.reset_index()\n",
    "#del data[\"datetime\"]\n",
    "#data = data.rename(columns={\"datetime_theo_pdt\":\"datetime\"})\n",
    "data = data.sort_values(by=[\"station\", \"datetime\", \"position\"])\n",
    "data = data.set_index([\"line\",\"station\", \"datetime\", \"direction\"])\n",
    "data = nan_rule(data, [\"load\"], [0, 1, 2, 3])\n",
    "data = data.reset_index()"
   ]
  },
  {
   "cell_type": "code",
   "execution_count": null,
   "metadata": {},
   "outputs": [],
   "source": [
    "data.head()"
   ]
  },
  {
   "cell_type": "code",
   "execution_count": null,
   "metadata": {},
   "outputs": [],
   "source": [
    "print(data[(data.position==2) & (data.n_coaches==2)][\"load\"].isna().sum())\n",
    "print(data[(data.position==1) & (data.n_coaches==2)][\"load\"].isna().sum())"
   ]
  },
  {
   "cell_type": "code",
   "execution_count": null,
   "metadata": {},
   "outputs": [],
   "source": [
    "data[(data.n_coaches==2) & (data.load.isnull())][\"position\"].unique()"
   ]
  },
  {
   "cell_type": "markdown",
   "metadata": {},
   "source": [
    "**Comparator**"
   ]
  },
  {
   "cell_type": "code",
   "execution_count": null,
   "metadata": {},
   "outputs": [],
   "source": [
    "models_to_test = [\n",
    "  # models.ImputeByMean([\"datetime.dt.dayofweek\", \"datetime.dt.round('10min')\"]),\n",
    "  # models.ImputeByMedian([\"datetime.dt.dayofweek\", \"datetime.dt.round('10min')\"]), \n",
    "  # models.RandomImpute(),\n",
    "  # models.ImputeLOCF(),\n",
    "  # models.ImputeNOCB(),\n",
    "  # models.ImputeByInterpolation(**{\"method\": \"linear\"}),\n",
    "  # models.ImputeBySpline(),\n",
    "  # models.ImputeKNN(),\n",
    "  models.ImputeRPCA(\n",
    "    method=\"temporal\", \n",
    "    aggregate_time=\"10min\", \n",
    "    multivariate=False,\n",
    "    **{\"n_rows\":24*12*7, \"maxIter\":10, \"tau\":1, \"lam\":0.8}\n",
    "    ),\n",
    "#   models.ImputeProphet(**{\n",
    "#               \"weekly_seasonality\": True, \n",
    "#               \"yearly_seasonality\": True,\n",
    "#               \"interval_width\": 0.95,\n",
    "#               })\n",
    "# models.ImputeRPCA(),\n",
    "]\n",
    "\n",
    "search_params = {\n",
    "  \"ImputeKNN\": {\"k\": {\"min\":2, \"max\":3, \"type\":\"Integer\"}},\n",
    "  \"ImputeProphet\": {\n",
    "          \"daily_seasonality\": {\"categories\": [True, False], \"type\":\"Categorical\"},\n",
    "        },\n",
    "  # \"ImputeRPCA\": {\n",
    "  #   \"lam\": {\"min\": 0.5, \"max\": 1, \"type\":\"Real\"},\n",
    "  #   \"tau\": {\"min\": 1, \"max\": 1.5, \"type\":\"Real\"},\n",
    "  # }\n",
    "}\n",
    "\n",
    "line = \"H\"\n",
    "station = \"VALMONDOIS\"\n",
    "direction = \"Paris\"\n",
    "dataset = data[(data[\"line\"]==line) & (data[\"station\"]==station) & (data[\"direction\"]==direction)]\n",
    "cols_to_impute = [\"load\"]\n",
    "\n",
    "# dataset = data[(data[\"line\"]==line) & (data[\"station\"]==station) & (data[\"direction\"]==direction)][[\"datetime\", \"load\"]]\n",
    "# dataset = dataset.set_index(\"datetime\")\n",
    "# dataset = dataset.squeeze()\n",
    "# #dataset = dataset.resample(\"5min\").agg(pd.Series.sum, skipna=False)\n",
    "# dataset = dataset.resample('5min').agg(lambda x: np.nan if np.isnan(x).all() else np.sum(x) )\n",
    "# print(dataset.isna().sum())\n",
    "# dataset = dataset.to_frame()\n",
    "\n",
    "dataset = dataset.set_index([\"line\",\"station\", \"datetime\", \"direction\"])\n",
    "# dataset = dataset.set_index([\"datetime\", \"direction\"])\n",
    "# dataset = dataframe with multiindex and at least, columns in cols_to_impute\n",
    "\n",
    "prop_nan = 0.05\n",
    "filter_value_nan = 20"
   ]
  },
  {
   "cell_type": "code",
   "execution_count": null,
   "metadata": {},
   "outputs": [],
   "source": [
    "comparison = comparator.Comparator(\n",
    "          dataset,\n",
    "          prop_nan, \n",
    "          models_to_test, \n",
    "          cols_to_impute,\n",
    "          search_params=search_params,\n",
    "          filter_value_nan=filter_value_nan,\n",
    ")\n",
    "results = comparison.compare()\n",
    "\n",
    "pp = pprint.PrettyPrinter(depth=4)\n",
    "pp.pprint(results)"
   ]
  },
  {
   "cell_type": "code",
   "execution_count": null,
   "metadata": {},
   "outputs": [],
   "source": []
  }
 ],
 "metadata": {
  "interpreter": {
   "hash": "0585498b77b0aa3c43ebc4f7917148a4a0d08100a06badb4b7a374b623f6ac92"
  },
  "kernelspec": {
   "display_name": "env_qolmat",
   "language": "python",
   "name": "env_qolmat"
  },
  "language_info": {
   "codemirror_mode": {
    "name": "ipython",
    "version": 3
   },
   "file_extension": ".py",
   "mimetype": "text/x-python",
   "name": "python",
   "nbconvert_exporter": "python",
   "pygments_lexer": "ipython3",
   "version": "3.7.6"
  }
 },
 "nbformat": 4,
 "nbformat_minor": 4
}
